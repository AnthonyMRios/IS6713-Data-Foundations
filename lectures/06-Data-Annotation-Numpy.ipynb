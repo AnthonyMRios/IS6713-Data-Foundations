{
 "cells": [
  {
   "cell_type": "markdown",
   "metadata": {},
   "source": [
    "# Python as a Calculator\n",
    "\n",
    "Blank notebook to be used for class exercises."
   ]
  },
  {
   "cell_type": "markdown",
   "metadata": {},
   "source": [
    "## Exercise 4\n",
    "\n",
    "Write code to calculate and print the cohen's kappa between rater1 and rater2.\n",
    "\n",
    "Hint: You will need to create the confusion matrix (matrix of how many times each rater agrees for each item)"
   ]
  },
  {
   "cell_type": "code",
   "execution_count": null,
   "metadata": {},
   "outputs": [],
   "source": [
    "rater1 = ['yes','no','yes','yes','yes','yes','no','yes','yes']\n",
    "rater2 = ['yes','no','no','yes','yes','yes','yes','yes','yes']"
   ]
  },
  {
   "cell_type": "code",
   "execution_count": null,
   "metadata": {},
   "outputs": [],
   "source": [
    "# write code here"
   ]
  },
  {
   "cell_type": "markdown",
   "metadata": {},
   "source": [
    "## Exercise 5\n",
    "\n",
    "Using the file \"twitter-inclass-annotations-easy.csv\" write code to calculate agreement using the Fleiss' kappa.\n",
    "\n",
    "Each column of the file represents classes, and the rows represent the tweet. The numbers - except for the tweet id - represent the number of students who agreed for that specific tweet on that class.\n",
    "\n",
    "File path: ../data/twitter-inclass-annotations-easy.csv"
   ]
  },
  {
   "cell_type": "code",
   "execution_count": 11,
   "metadata": {},
   "outputs": [
    {
     "name": "stdout",
     "output_type": "stream",
     "text": [
      "HEADER\n",
      "\n",
      "['tweet id', 'mixed', 'neutral', 'unknown', 'negative', 'positive']\n",
      "\n",
      "DATA\n",
      "\n",
      "[0.0, 0.0, 1.0, 0.0, 9.0, 1.0]\n",
      "[1.0, 0.0, 0.0, 0.0, 11.0, 0.0]\n",
      "[2.0, 2.0, 3.0, 5.0, 0.0, 1.0]\n",
      "[3.0, 0.0, 0.0, 0.0, 11.0, 0.0]\n",
      "[4.0, 2.0, 0.0, 0.0, 9.0, 0.0]\n",
      "[5.0, 2.0, 1.0, 5.0, 1.0, 2.0]\n",
      "[6.0, 0.0, 3.0, 7.0, 1.0, 0.0]\n",
      "[7.0, 2.0, 0.0, 0.0, 9.0, 0.0]\n",
      "[8.0, 0.0, 0.0, 1.0, 10.0, 0.0]\n",
      "[9.0, 1.0, 0.0, 3.0, 7.0, 0.0]\n",
      "[10.0, 1.0, 1.0, 0.0, 9.0, 0.0]\n",
      "[11.0, 2.0, 0.0, 1.0, 8.0, 0.0]\n",
      "[12.0, 2.0, 1.0, 1.0, 0.0, 7.0]\n",
      "[13.0, 1.0, 1.0, 1.0, 2.0, 6.0]\n",
      "[14.0, 1.0, 0.0, 0.0, 6.0, 4.0]\n",
      "[15.0, 1.0, 0.0, 0.0, 1.0, 9.0]\n",
      "[16.0, 3.0, 0.0, 0.0, 7.0, 1.0]\n",
      "[17.0, 3.0, 1.0, 1.0, 4.0, 2.0]\n",
      "[18.0, 3.0, 0.0, 1.0, 4.0, 3.0]\n",
      "[19.0, 1.0, 2.0, 0.0, 5.0, 3.0]\n"
     ]
    }
   ],
   "source": [
    "# Code that loads the data into a list of lists. The data also printed.\n",
    "import csv\n",
    "a = open('../data/twitter-inclass-annotations-easy.csv')\n",
    "data = []\n",
    "iCSV = csv.reader(a)\n",
    "header = next(iCSV)\n",
    "for row in iCSV:\n",
    "    data.append([float(x) for x in row])\n",
    "a.close()\n",
    "\n",
    "print(\"HEADER\\n\")\n",
    "print(header)\n",
    "print(\"\\nDATA\\n\")\n",
    "for row in data:\n",
    "    print(row)"
   ]
  },
  {
   "cell_type": "code",
   "execution_count": null,
   "metadata": {},
   "outputs": [],
   "source": [
    "#Write code here"
   ]
  },
  {
   "cell_type": "markdown",
   "metadata": {},
   "source": [
    "## Exercise 6\n",
    "\n",
    "Write a function that takes two 1-dimensional arrays as input and returns the euclidean distance between the two arrays.\n",
    "\n",
    "Euclidean distance is defined as\n",
    "\n",
    "$EDist = \\sqrt{(x_0 - v_0)^2 + (x_1 - v_1)^2 + \\dots + (x_{D-1} - v_{D-1})^2}$\n",
    "\n",
    "The square root of a number in numpy can be calculated as np.sqrt(x), where x is a number or array.\n",
    "\n",
    "Try to complete this exercise with for loops and with vector notation."
   ]
  },
  {
   "cell_type": "code",
   "execution_count": null,
   "metadata": {},
   "outputs": [],
   "source": [
    "# Write code here"
   ]
  }
 ],
 "metadata": {
  "kernelspec": {
   "display_name": "Python 3",
   "language": "python",
   "name": "python3"
  },
  "language_info": {
   "codemirror_mode": {
    "name": "ipython",
    "version": 3
   },
   "file_extension": ".py",
   "mimetype": "text/x-python",
   "name": "python",
   "nbconvert_exporter": "python",
   "pygments_lexer": "ipython3",
   "version": "3.6.4"
  }
 },
 "nbformat": 4,
 "nbformat_minor": 2
}

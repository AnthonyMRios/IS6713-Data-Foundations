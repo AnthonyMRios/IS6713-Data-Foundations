{
 "cells": [
  {
   "cell_type": "markdown",
   "metadata": {},
   "source": [
    "# Python as a Calculator\n",
    "\n",
    "Blank notebook to be used for class exercises."
   ]
  },
  {
   "cell_type": "markdown",
   "metadata": {},
   "source": [
    "## Exercise 4\n",
    "\n",
    "Write code to calculate and print the cohen's kappa between rater1 and rater2.\n",
    "\n",
    "Hint: You will need to create the confusion matrix (matrix of how many times each rater agrees for each item)"
   ]
  },
  {
   "cell_type": "code",
   "execution_count": 3,
   "metadata": {},
   "outputs": [],
   "source": [
    "rater1 = ['yes','no','yes','yes','yes','yes','no','yes','yes']\n",
    "rater2 = ['yes','no','no','yes','yes','yes','yes','yes','yes']"
   ]
  },
  {
   "cell_type": "code",
   "execution_count": 4,
   "metadata": {},
   "outputs": [
    {
     "name": "stdout",
     "output_type": "stream",
     "text": [
      "po: 0.7778\n",
      "pe: 0.6543\n",
      "kappa: 0.3571\n"
     ]
    }
   ],
   "source": [
    "yes_yes = 0\n",
    "yes_no = 0\n",
    "no_yes = 0\n",
    "no_no = 0\n",
    "\n",
    "for r1, r2 in zip(rater1, rater2):\n",
    "    if r1 == r2 and r1 == 'yes':\n",
    "        yes_yes += 1\n",
    "    elif r1 == r2 and r2 == 'no':\n",
    "        no_no += 1\n",
    "    elif r1 != r2 and r1 == 'yes':\n",
    "        yes_no += 1\n",
    "    else:\n",
    "        no_yes += 1\n",
    "\n",
    "po = (yes_yes + no_no)/(yes_yes+no_no+yes_no+no_yes)\n",
    "\n",
    "p_r1_yes = (yes_yes + yes_no)/(yes_yes+no_no+yes_no+no_yes)\n",
    "p_r2_yes = (yes_yes + no_yes)/(yes_yes+no_no+yes_no+no_yes)\n",
    "\n",
    "p_r1_no = (no_no + no_yes)/(yes_yes+no_no+yes_no+no_yes)\n",
    "p_r2_no = (no_no + yes_no)/(yes_yes+no_no+yes_no+no_yes)\n",
    "\n",
    "pe = p_r1_yes * p_r2_yes + p_r1_no * p_r2_no\n",
    "\n",
    "kappa = (po-pe)/(1-pe)\n",
    "print(\"po: {:.4f}\".format(po))\n",
    "print(\"pe: {:.4f}\".format(pe))\n",
    "print(\"kappa: {:.4f}\".format(kappa))"
   ]
  },
  {
   "cell_type": "markdown",
   "metadata": {},
   "source": [
    "## Exercise 5\n",
    "\n",
    "Using the file \"twitter-inclass-annotations-easy.csv\" write code to calculate agreement using the Fleiss' kappa.\n",
    "\n",
    "Each column of the file represents classes, and the rows represent the tweet. The numbers - except for the tweet id - represent the number of students who agreed for that specific tweet on that class.\n",
    "\n",
    "File path: ../data/twitter-inclass-annotations-easy.csv"
   ]
  },
  {
   "cell_type": "code",
   "execution_count": 11,
   "metadata": {},
   "outputs": [
    {
     "name": "stdout",
     "output_type": "stream",
     "text": [
      "HEADER\n",
      "\n",
      "['tweet id', 'mixed', 'neutral', 'unknown', 'negative', 'positive']\n",
      "\n",
      "DATA\n",
      "\n",
      "[0.0, 0.0, 1.0, 0.0, 9.0, 1.0]\n",
      "[1.0, 0.0, 0.0, 0.0, 11.0, 0.0]\n",
      "[2.0, 2.0, 3.0, 5.0, 0.0, 1.0]\n",
      "[3.0, 0.0, 0.0, 0.0, 11.0, 0.0]\n",
      "[4.0, 2.0, 0.0, 0.0, 9.0, 0.0]\n",
      "[5.0, 2.0, 1.0, 5.0, 1.0, 2.0]\n",
      "[6.0, 0.0, 3.0, 7.0, 1.0, 0.0]\n",
      "[7.0, 2.0, 0.0, 0.0, 9.0, 0.0]\n",
      "[8.0, 0.0, 0.0, 1.0, 10.0, 0.0]\n",
      "[9.0, 1.0, 0.0, 3.0, 7.0, 0.0]\n",
      "[10.0, 1.0, 1.0, 0.0, 9.0, 0.0]\n",
      "[11.0, 2.0, 0.0, 1.0, 8.0, 0.0]\n",
      "[12.0, 2.0, 1.0, 1.0, 0.0, 7.0]\n",
      "[13.0, 1.0, 1.0, 1.0, 2.0, 6.0]\n",
      "[14.0, 1.0, 0.0, 0.0, 6.0, 4.0]\n",
      "[15.0, 1.0, 0.0, 0.0, 1.0, 9.0]\n",
      "[16.0, 3.0, 0.0, 0.0, 7.0, 1.0]\n",
      "[17.0, 3.0, 1.0, 1.0, 4.0, 2.0]\n",
      "[18.0, 3.0, 0.0, 1.0, 4.0, 3.0]\n",
      "[19.0, 1.0, 2.0, 0.0, 5.0, 3.0]\n"
     ]
    }
   ],
   "source": [
    "# Code that loads the data into a list of lists. The data also printed.\n",
    "import csv\n",
    "a = open('../data/twitter-inclass-annotations-easy.csv')\n",
    "data = []\n",
    "iCSV = csv.reader(a)\n",
    "header = next(iCSV)\n",
    "for row in iCSV:\n",
    "    data.append([float(x) for x in row])\n",
    "a.close()\n",
    "\n",
    "print(\"HEADER\\n\")\n",
    "print(header)\n",
    "print(\"\\nDATA\\n\")\n",
    "for row in data:\n",
    "    print(row)"
   ]
  },
  {
   "cell_type": "code",
   "execution_count": 1,
   "metadata": {},
   "outputs": [
    {
     "name": "stdout",
     "output_type": "stream",
     "text": [
      "Po: 0.5081818181818182\n",
      "Pe: 0.3330165289256199\n",
      "Fleiss' Kappa: 0.2626231336348429\n"
     ]
    }
   ],
   "source": [
    "import csv\n",
    "N = 0\n",
    "Nn = 0\n",
    "head = True\n",
    "Po = 0 # Po Sum\n",
    "nj = {} # Keep track of class (column) sums\n",
    "headers = []\n",
    "with open('../data/twitter-inclass-annotations-easy.csv') as inf:\n",
    "    iCSV = csv.reader(inf)\n",
    "    for row in iCSV:\n",
    "        if head:\n",
    "            head = False\n",
    "            for name in row[1:]:\n",
    "                nj[name] = 0\n",
    "            headers = row[1:]\n",
    "        else:\n",
    "            Pi = 0\n",
    "            n = 0\n",
    "            index = 0\n",
    "            for i in row[1:]:\n",
    "                Pi += float(i) * (float(i)-1)\n",
    "                n += float(i)\n",
    "                nj[headers[index]] += float(i)\n",
    "                index += 1\n",
    "            Pi = (1/(n*(n-1))) * Pi # Normalize Pi (i-th items agreement)\n",
    "            Nn += n # Keep track of sum of all annotations\n",
    "            Po += Pi # Add the i-ths items agreement to Po\n",
    "            N += 1 # Keep track of number of tweets\n",
    "\n",
    "Po = (1/N) * Po # Normalize Po\n",
    "\n",
    "Pe = 0 # Pe Sum\n",
    "for class_name, count in nj.items():\n",
    "    pj = (1/Nn) * count # normalize pj\n",
    "    Pe += pj**2 # pj squared\n",
    "\n",
    "kappa = (Po - Pe)/(1-Pe)\n",
    "\n",
    "print(\"Po: {}\".format(Po))\n",
    "print(\"Pe: {}\".format(Pe))\n",
    "print(\"Fleiss' Kappa: {}\".format(kappa))"
   ]
  },
  {
   "cell_type": "markdown",
   "metadata": {},
   "source": [
    "## Exercise 6\n",
    "\n",
    "Write a function that takes two 1-dimensional arrays as input and returns the euclidean distance between the two arrays.\n",
    "\n",
    "Euclidean distance is defined as\n",
    "\n",
    "$EDist = \\sqrt{(x_0 - v_0)^2 + (x_1 - v_1)^2 + \\dots + (x_{D-1} - v_{D-1})^2}$\n",
    "\n",
    "The square root of a number in numpy can be calculated as np.sqrt(x), where x is a number or array.\n",
    "\n",
    "Try to complete this exercise with for loops and with vector notation."
   ]
  },
  {
   "cell_type": "code",
   "execution_count": null,
   "metadata": {},
   "outputs": [],
   "source": [
    "def sq"
   ]
  }
 ],
 "metadata": {
  "kernelspec": {
   "display_name": "Python 3",
   "language": "python",
   "name": "python3"
  },
  "language_info": {
   "codemirror_mode": {
    "name": "ipython",
    "version": 3
   },
   "file_extension": ".py",
   "mimetype": "text/x-python",
   "name": "python",
   "nbconvert_exporter": "python",
   "pygments_lexer": "ipython3",
   "version": "3.6.4"
  }
 },
 "nbformat": 4,
 "nbformat_minor": 2
}

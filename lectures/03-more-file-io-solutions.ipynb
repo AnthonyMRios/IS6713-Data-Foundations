{
 "cells": [
  {
   "cell_type": "markdown",
   "metadata": {},
   "source": [
    "# Python as a Calculator\n",
    "\n",
    "Blank notebook to be used for class exercises."
   ]
  },
  {
   "cell_type": "markdown",
   "metadata": {},
   "source": [
    "## Exercise 1\n",
    "\n",
    "Using the file \"understandingsets.txt\", write code that does the following:\n",
    "\n",
    "- Count the number of lines in the file\n",
    "- Count the number of unique lines in the file (Use a Python \"set\" for this)\n",
    "- Print the line that occurs the most frequently in the file (Use a Python \"dict\" for this).\n",
    "\n",
    "Path: \"../data/understandingsets.txt\"\n",
    "\n",
    "\"set\" documentation: \n",
    "- https://docs.python.org/3/tutorial/datastructures.html\\#sets\n",
    "- https://docs.python.org/3/library/stdtypes.html?highlight=set#set"
   ]
  },
  {
   "cell_type": "code",
   "execution_count": 21,
   "metadata": {},
   "outputs": [
    {
     "name": "stdout",
     "output_type": "stream",
     "text": [
      "John Doe\n",
      "Jane Doe\n",
      "Jane Doe\n",
      "Anthony Rios\n",
      "Jane Doe\n",
      "Anthony Rios\n",
      "Anthony Rios\n",
      "John Doe\n",
      "Jane Doe\n",
      "Anthony Rios\n"
     ]
    }
   ],
   "source": [
    "!head ../data/understandingsets.txt"
   ]
  },
  {
   "cell_type": "code",
   "execution_count": 24,
   "metadata": {},
   "outputs": [],
   "source": [
    "total_line_count = 0\n",
    "unique_lines = set()\n",
    "line_counts = {}\n",
    "\n",
    "my_file = open('../data/understandingsets.txt')\n",
    "for line in my_file:\n",
    "    unique_lines.add(line)\n",
    "    if line in line_counts:\n",
    "        line_counts[line] += 1\n",
    "    else:\n",
    "        line_counts[line] = 1\n",
    "    total_line_count += 1\n",
    "\n",
    "max_line = ''      \n",
    "max_line_cnt = 0\n",
    "for line in unique_lines:\n",
    "    if max_line_cnt == 0:\n",
    "        max_line = line\n",
    "        max_line_cnt = line_counts[line]\n",
    "    elif max_line_cnt < line_counts[line]:\n",
    "        max_line = line\n",
    "        max_line_cnt = line_counts[line]"
   ]
  },
  {
   "cell_type": "code",
   "execution_count": 25,
   "metadata": {},
   "outputs": [
    {
     "name": "stdout",
     "output_type": "stream",
     "text": [
      "total lines: 72 unique lines: 3 max line: Anthony Rios\n",
      "\n"
     ]
    }
   ],
   "source": [
    "print('total lines: {} unique lines: {} max line: {}'.format(total_line_count, len(unique_lines), max_line))"
   ]
  },
  {
   "cell_type": "markdown",
   "metadata": {},
   "source": [
    "## Exercise 2\n",
    "\n",
    "Write code that reads the file line-by-line numbers.txt, then does thefollowing:\n",
    "- Sum all the numbers in numbers.txt, then prints the numbers to thescreen.\n",
    "\n",
    "Next, append the string \"SUM: k\", wherekis the calculated sum. to the end of numbers.txt as a new line.\n",
    "\n",
    "Finally, print the entire file to make sure you appended to the file correctly.\n",
    "\n",
    "The absolute path for the file is \"../data/numbers.txt\"\n",
    "\n",
    "**Important Python concepts:** for, open ('a' and 'r'), write(), print()"
   ]
  },
  {
   "cell_type": "code",
   "execution_count": 32,
   "metadata": {},
   "outputs": [
    {
     "name": "stdout",
     "output_type": "stream",
     "text": [
      "42\n",
      "18\n",
      "22\n",
      "18"
     ]
    }
   ],
   "source": [
    "!cat ../data/numbers.txt"
   ]
  },
  {
   "cell_type": "code",
   "execution_count": 33,
   "metadata": {},
   "outputs": [],
   "source": [
    "in_file = open('../data/numbers.txt')\n",
    "my_sum = 0 # avoid using 'sum' as a variable name because it is a python reserved word\n",
    "for row in in_file:\n",
    "    my_sum += int(row)\n",
    "in_file.close()"
   ]
  },
  {
   "cell_type": "code",
   "execution_count": 34,
   "metadata": {},
   "outputs": [
    {
     "name": "stdout",
     "output_type": "stream",
     "text": [
      "sum: 100\n"
     ]
    }
   ],
   "source": [
    "print('sum: {}'.format(my_sum))"
   ]
  },
  {
   "cell_type": "code",
   "execution_count": 35,
   "metadata": {},
   "outputs": [],
   "source": [
    "out_file = open('../data/numbers.txt', 'a')\n",
    "out_file.write('\\nSum: {}'.format(my_sum))\n",
    "out_file.close()"
   ]
  },
  {
   "cell_type": "markdown",
   "metadata": {},
   "source": [
    "Run the line below to check your work"
   ]
  },
  {
   "cell_type": "code",
   "execution_count": 36,
   "metadata": {},
   "outputs": [
    {
     "name": "stdout",
     "output_type": "stream",
     "text": [
      "42\n",
      "18\n",
      "22\n",
      "18\n",
      "Sum: 100"
     ]
    }
   ],
   "source": [
    "!cat ../data/numbers.txt"
   ]
  },
  {
   "cell_type": "code",
   "execution_count": 31,
   "metadata": {},
   "outputs": [],
   "source": [
    "# If you mess up the file and need to try again, run this cell\n",
    "with open('../data/numbers.txt', 'w') as in_file:\n",
    "    in_file.write('42\\n18\\n22\\n18')"
   ]
  },
  {
   "cell_type": "markdown",
   "metadata": {},
   "source": [
    "## Exercise 3\n",
    "\n",
    "Write code that reads the csv file \"housing_prices.csv\" and calculate/print the following:\n",
    "- Calculate and print the sum of all house prices\n",
    "- Calculate and print the average price\n",
    "- Calculate and print the max price (all prices are > 0)\n",
    "- Print the name of the street that contains the house with the most expensive house.\n",
    "\n",
    "The path for the file is \"../data/house_prices.csv\".\n",
    "\n",
    "**Important Python concepts:** for, lists, open ('r'), if (>)\n",
    "\n",
    "Run the cell below to view the \"house_prices.csv\" file."
   ]
  },
  {
   "cell_type": "code",
   "execution_count": 9,
   "metadata": {},
   "outputs": [
    {
     "name": "stdout",
     "output_type": "stream",
     "text": [
      "\"street name\",\"square feet\",\"price\"\n",
      "\"Sreet 1\",400,10000\n",
      "\"Street 2\",650,15000\n",
      "\"Street 3\",1000,20000\n"
     ]
    }
   ],
   "source": [
    "!cat ../data/house_prices.csv"
   ]
  },
  {
   "cell_type": "code",
   "execution_count": 37,
   "metadata": {},
   "outputs": [],
   "source": [
    "import csv\n",
    "in_file = open('../data/house_prices.csv')\n",
    "my_csv = csv.reader(in_file, delimiter=',')\n",
    "house_sum = 0\n",
    "house_cnt = 0\n",
    "max_price = 0\n",
    "cur_max_house = ''\n",
    "header = True\n",
    "for row in my_csv:\n",
    "    if header:\n",
    "        header = False\n",
    "    else:\n",
    "        house_sum += float(row[2])\n",
    "        house_cnt += 1\n",
    "        if max_price < float(row[2]):\n",
    "            max_price = float(row[2])\n",
    "            cur_max_house = row[0]\n",
    "in_file.close()"
   ]
  },
  {
   "cell_type": "code",
   "execution_count": 38,
   "metadata": {},
   "outputs": [
    {
     "name": "stdout",
     "output_type": "stream",
     "text": [
      "Sum: 45000.0 Average: 15000.0 Max: 20000.0\n"
     ]
    }
   ],
   "source": [
    "# Print the sum, average, and max prices prices in housing_prices.csv here\n",
    "print('Sum: {} Average: {} Max: {}'.format(house_sum, house_sum/house_cnt, max_price))"
   ]
  },
  {
   "cell_type": "code",
   "execution_count": 39,
   "metadata": {},
   "outputs": [
    {
     "name": "stdout",
     "output_type": "stream",
     "text": [
      "Most expensive street: Street 3\n"
     ]
    }
   ],
   "source": [
    "print(\"Most expensive street: {}\".format(cur_max_house))"
   ]
  },
  {
   "cell_type": "markdown",
   "metadata": {},
   "source": [
    "## Exercise 4\n",
    "\n",
    "Given the following list of lists\n",
    "\n",
    "myData = [['name','department','birthday month'], ['JohnDoe','Marketing','November'],['Jane Smith', 'IT', 'March']]\n",
    "\n",
    "create a csv file that is delimited with the tab ('\\t') character using the csv.writer() method. Name the file \"employee_birthday.csv\"."
   ]
  },
  {
   "cell_type": "code",
   "execution_count": 41,
   "metadata": {},
   "outputs": [],
   "source": [
    "myData = [['name','department','birthday month'], ['John Doe','Marketing','November'],['Jane Smith', 'IT', 'March']]"
   ]
  },
  {
   "cell_type": "code",
   "execution_count": 42,
   "metadata": {},
   "outputs": [],
   "source": [
    "# write code to write the list of lists above to the CSV file \"employee_birthday.csv\"\n",
    "import csv\n",
    "\n",
    "out_file = open('employee_birthday.csv', 'w')\n",
    "\n",
    "myCSV = csv.writer(out_file, delimiter='\\t')\n",
    "\n",
    "for row in myData:\n",
    "    myCSV.writerow(row)\n",
    "    \n",
    "out_file.close()"
   ]
  },
  {
   "cell_type": "markdown",
   "metadata": {},
   "source": [
    "Run the line below to check your work:"
   ]
  },
  {
   "cell_type": "code",
   "execution_count": 46,
   "metadata": {},
   "outputs": [
    {
     "name": "stdout",
     "output_type": "stream",
     "text": [
      "name\tdepartment\tbirthday month\n",
      "John Doe\tMarketing\tNovember\n",
      "Jane Smith\tIT\tMarch\n",
      "\n"
     ]
    }
   ],
   "source": [
    "my_file = open('employee_birthday.csv')\n",
    "print(my_file.read())\n",
    "my_file.close()"
   ]
  },
  {
   "cell_type": "markdown",
   "metadata": {},
   "source": [
    "## Exercise 5\n",
    "\n",
    "A garden center has an XML (plant_catalog.xml) file that stores information, including price, for all plants they sell. The store is having a sale where everything is 20% off. Write a program that that prints the plant \"COMMON\" name, the current price, and the new sale price. An example of what the output should look like is shown below:\n",
    "\n",
    "```\n",
    "Bloodroot $2.44 to $1.95\\\\\n",
    "Columbine $9.37 to $7.50\\\\\n",
    "Marsh Marigold $6.81 to $5.45\\\\\n",
    "...```\n",
    "        \n",
    "File absolute path: \"../data/plant_catalog.xml\"\n",
    "**Hint:** You will need to use \"string indexing\"."
   ]
  },
  {
   "cell_type": "code",
   "execution_count": 14,
   "metadata": {},
   "outputs": [
    {
     "name": "stdout",
     "output_type": "stream",
     "text": [
      "<?xml version=\"1.0\" encoding=\"UTF-8\"?>\n",
      "<CATALOG>\n",
      "  <PLANT>\n",
      "    <COMMON>Bloodroot</COMMON>\n",
      "    <BOTANICAL>Sanguinaria canadensis</BOTANICAL>\n",
      "    <ZONE>4</ZONE>\n",
      "    <LIGHT>Mostly Shady</LIGHT>\n",
      "    <PRICE>$2.44</PRICE>\n",
      "    <AVAILABILITY>031599</AVAILABILITY>\n",
      "  </PLANT>\n",
      "  <PLANT>\n",
      "    <COMMON>Columbine</COMMON>\n",
      "    <BOTANICAL>Aquilegia canadensis</BOTANICAL>\n",
      "    <ZONE>3</ZONE>\n",
      "    <LIGHT>Mostly Shady</LIGHT>\n",
      "    <PRICE>$9.37</PRICE>\n",
      "    <AVAILABILITY>030699</AVAILABILITY>\n",
      "  </PLANT>\n",
      "  <PLANT>\n",
      "    <COMMON>Marsh Marigold</COMMON>\n",
      "    <BOTANICAL>Caltha palustris</BOTANICAL>\n",
      "    <ZONE>4</ZONE>\n",
      "    <LIGHT>Mostly Sunny</LIGHT>\n",
      "    <PRICE>$6.81</PRICE>\n",
      "    <AVAILABILITY>051799</AVAILABILITY>\n",
      "  </PLANT>\n",
      "\n"
     ]
    }
   ],
   "source": [
    "# Use this code to look at the structure of plant_catalog.xml\n",
    "# n = number of lines to show\n",
    "n = 26\n",
    "with open(\"../data/plant_catalog.xml\") as myfile:\n",
    "    head = [next(myfile) for x in range(n)]\n",
    "print(''.join(head))"
   ]
  },
  {
   "cell_type": "code",
   "execution_count": null,
   "metadata": {},
   "outputs": [],
   "source": [
    "# Write code here"
   ]
  },
  {
   "cell_type": "markdown",
   "metadata": {},
   "source": [
    "## Exercise 6\n",
    "\n",
    "Using the \"exampleJSON.json\" file, complete the following tasks:\n",
    "- Load the file into a python dictionary.\n",
    "- Change the email of item with the name \"Anthony\" to \"anthony.rios@utsa.edu\"\n",
    "- Add a new person to the list with the name \"David\" and email \"david@fakeemail.edu\"\n",
    "- Save the new dictionary to a JSON file \"exampleJSON2.json\"\n",
    "\n",
    "File path: ../data/exampleJSON.json"
   ]
  },
  {
   "cell_type": "code",
   "execution_count": 47,
   "metadata": {},
   "outputs": [
    {
     "name": "stdout",
     "output_type": "stream",
     "text": [
      "[{\"name\": \"Anthony\", \"email\": \"a@utsa.edu\", \"age\": 102}, {\"name\": \"John\", \"email\": \"john@fake.edu\"}, {\"name\": \"Jane\", \"email\": \"jane@fake.edu\"}]\n"
     ]
    }
   ],
   "source": [
    "!cat ../data/exampleJSON.json"
   ]
  },
  {
   "cell_type": "code",
   "execution_count": null,
   "metadata": {},
   "outputs": [],
   "source": [
    "import json\n",
    "\n",
    "my_json_file = open('../data/exampleJSON.json')\n",
    "\n",
    "data = json.load(my_json_file)\n",
    "data[0]['email'] = 'anthony.rios@utsa.edu'\n",
    "my_json_file.close()"
   ]
  },
  {
   "cell_type": "markdown",
   "metadata": {},
   "source": [
    "Run the following cell to check your work"
   ]
  },
  {
   "cell_type": "code",
   "execution_count": null,
   "metadata": {},
   "outputs": [],
   "source": [
    "!cat exampleJSON2.json"
   ]
  },
  {
   "cell_type": "markdown",
   "metadata": {},
   "source": [
    "## Exercise 7\n",
    "\n",
    "Write code to loop over the Twitter JSONL file \"twitter.jsonl\" and compute the following:\n",
    "- Count and print the total number of tweets.\n",
    "- Count and print the total number of users are in the dataset. Hint: row['user']['screen_name']\n",
    "- Print the screen name of the user who has the most tweets.\n",
    "\n",
    "**Tip:** Don't process the entire file right away, start by processing 1 to 2 lines.\n",
    "\n",
    "File path: \"../data/twitter.jsonl\"\n",
    "\n",
    "Dataset URL: https://www.dropbox.com/s/5lu497muqq0jver/user_timelines_small.jsonl?dl=0"
   ]
  },
  {
   "cell_type": "markdown",
   "metadata": {},
   "source": [
    "Run the next cell to view the first row line of the file"
   ]
  },
  {
   "cell_type": "code",
   "execution_count": 19,
   "metadata": {},
   "outputs": [
    {
     "name": "stdout",
     "output_type": "stream",
     "text": [
      "{\"truncated\": false, \"full_text\": \"Adam Cole Praises Kevin Owens + A Preview For Next Week\\u2019s ROH Broadcast https://t.co/uIV7TKHs9K\", \"in_reply_to_user_id\": null, \"source\": \"<a href=\\\"https://dlvrit.com/\\\" rel=\\\"nofollow\\\">dlvr.it</a>\", \"entities\": {\"user_mentions\": [], \"symbols\": [], \"urls\": [{\"display_url\": \"dlvr.it/M3sHSw\", \"url\": \"https://t.co/uIV7TKHs9K\", \"expanded_url\": \"http://dlvr.it/M3sHSw\", \"indices\": [72, 95]}], \"hashtags\": []}, \"in_reply_to_screen_name\": null, \"retweeted\": false, \"in_reply_to_status_id\": null, \"display_text_range\": [0, 95], \"id\": 766323071976247296, \"favorite_count\": 1, \"retweet_count\": 0, \"contributors\": null, \"geo\": null, \"id_str\": \"766323071976247296\", \"lang\": \"en\", \"is_quote_status\": false, \"user\": {\"profile_background_tile\": false, \"translator_type\": \"none\", \"location\": \"main; @Kan1shk3\", \"profile_background_color\": \"FFFFFF\", \"default_profile\": false, \"notifications\": false, \"following\": false, \"verified\": false, \"friends_count\": 15, \"entities\": {\"description\": {\"urls\": []}}, \"profile_text_color\": \"333333\", \"profile_use_background_image\": true, \"id\": 2231233110, \"profile_sidebar_fill_color\": \"DDEEF6\", \"is_translation_enabled\": false, \"profile_banner_url\": \"https://pbs.twimg.com/profile_banners/2231233110/1387622004\", \"utc_offset\": null, \"profile_sidebar_border_color\": \"FFFFFF\", \"listed_count\": 34, \"profile_image_url_https\": \"https://pbs.twimg.com/profile_images/414342229096808449/fYvzqXN7_normal.png\", \"description\": \"i sing my own rhythm.\", \"profile_background_image_url_https\": \"https://abs.twimg.com/images/themes/theme1/bg.png\", \"screen_name\": \"sheezy0\", \"follow_request_sent\": false, \"geo_enabled\": false, \"default_profile_image\": false, \"id_str\": \"2231233110\", \"name\": \"\", \"favourites_count\": 0, \"profile_image_url\": \"http://pbs.twimg.com/profile_images/414342229096808449/fYvzqXN7_normal.png\", \"lang\": \"en\", \"followers_count\": 76, \"profile_background_image_url\": \"http://abs.twimg.com/images/themes/theme1/bg.png\", \"is_translator\": false, \"profile_image_extensions_alt_text\": null, \"has_extended_profile\": false, \"protected\": false, \"contributors_enabled\": false, \"time_zone\": null, \"created_at\": \"Thu Dec 05 09:48:45 +0000 2013\", \"url\": null, \"profile_link_color\": \"08C2C2\", \"statuses_count\": 151093}, \"in_reply_to_user_id_str\": null, \"place\": null, \"coordinates\": null, \"possibly_sensitive\": false, \"in_reply_to_status_id_str\": null, \"favorited\": false, \"created_at\": \"Thu Aug 18 17:17:12 +0000 2016\"}\n"
     ]
    }
   ],
   "source": [
    "!head -n1 ../data/twitter.jsonl"
   ]
  },
  {
   "cell_type": "code",
   "execution_count": null,
   "metadata": {},
   "outputs": [],
   "source": [
    "# Write code here"
   ]
  }
 ],
 "metadata": {
  "kernelspec": {
   "display_name": "Python 3",
   "language": "python",
   "name": "python3"
  },
  "language_info": {
   "codemirror_mode": {
    "name": "ipython",
    "version": 3
   },
   "file_extension": ".py",
   "mimetype": "text/x-python",
   "name": "python",
   "nbconvert_exporter": "python",
   "pygments_lexer": "ipython3",
   "version": "3.6.4"
  }
 },
 "nbformat": 4,
 "nbformat_minor": 2
}

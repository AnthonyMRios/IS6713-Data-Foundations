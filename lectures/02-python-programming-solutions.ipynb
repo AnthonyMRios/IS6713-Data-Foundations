{
 "cells": [
  {
   "cell_type": "markdown",
   "metadata": {},
   "source": [
    "# Python as a Calculator\n",
    "\n",
    "Blank notebook to be used for class exercises."
   ]
  },
  {
   "cell_type": "markdown",
   "metadata": {},
   "source": [
    "## Exercise 1: Putting it all together\n",
    "\n",
    "Write a program that does the following:\n",
    "\n",
    "- Prints the numbers 1 to 100\n",
    "- For the  numbers 10 to 25 (including 10 and 25), instead of printing the number, print the word \"cheese\".\n",
    "- For numbers 55 to 100 (including 55, but not including 100), instead of printing the number, print the word \"cake\".\n",
    "- For 100 print the word \"Done!\".\n",
    "\n",
    "**Important Python concepts:** print(), if, elif, else, for"
   ]
  },
  {
   "cell_type": "code",
   "execution_count": 1,
   "metadata": {},
   "outputs": [
    {
     "name": "stdout",
     "output_type": "stream",
     "text": [
      "1\n",
      "2\n",
      "3\n",
      "4\n",
      "5\n",
      "6\n",
      "7\n",
      "8\n",
      "9\n",
      "cheese\n",
      "cheese\n",
      "cheese\n",
      "cheese\n",
      "cheese\n",
      "cheese\n",
      "cheese\n",
      "cheese\n",
      "cheese\n",
      "cheese\n",
      "cheese\n",
      "cheese\n",
      "cheese\n",
      "cheese\n",
      "cheese\n",
      "cheese\n",
      "26\n",
      "27\n",
      "28\n",
      "29\n",
      "30\n",
      "31\n",
      "32\n",
      "33\n",
      "34\n",
      "35\n",
      "36\n",
      "37\n",
      "38\n",
      "39\n",
      "40\n",
      "41\n",
      "42\n",
      "43\n",
      "44\n",
      "45\n",
      "46\n",
      "47\n",
      "48\n",
      "49\n",
      "50\n",
      "51\n",
      "52\n",
      "53\n",
      "54\n",
      "cake\n",
      "cake\n",
      "cake\n",
      "cake\n",
      "cake\n",
      "cake\n",
      "cake\n",
      "cake\n",
      "cake\n",
      "cake\n",
      "cake\n",
      "cake\n",
      "cake\n",
      "cake\n",
      "cake\n",
      "cake\n",
      "cake\n",
      "cake\n",
      "cake\n",
      "cake\n",
      "cake\n",
      "cake\n",
      "cake\n",
      "cake\n",
      "cake\n",
      "cake\n",
      "cake\n",
      "cake\n",
      "cake\n",
      "cake\n",
      "cake\n",
      "cake\n",
      "cake\n",
      "cake\n",
      "cake\n",
      "cake\n",
      "cake\n",
      "cake\n",
      "cake\n",
      "cake\n",
      "cake\n",
      "cake\n",
      "cake\n",
      "cake\n",
      "cake\n",
      "Done!\n"
     ]
    }
   ],
   "source": [
    "for i in range(1,101):\n",
    "    if i >= 10 and i <= 25:\n",
    "        print(\"cheese\")\n",
    "    elif i >= 55 and i < 100:\n",
    "        print(\"cake\")\n",
    "    elif i == 100:\n",
    "        print(\"Done!\")\n",
    "    else:\n",
    "        print(i)"
   ]
  },
  {
   "cell_type": "markdown",
   "metadata": {},
   "source": [
    "## Exercise 2\n",
    "\n",
    "Write a program which repeatedly reads numbers until the user enters “done”. Once “done” is entered, print out the total, count, and average of the numbers. If the user enters anything other than a number, detect their mistake using try and except and print an error message and skip to the next number.\n",
    "\n",
    "What the code should look like when running:\n",
    "```\n",
    "Enter a number: 4\n",
    "Enter a number: 5\n",
    "Enter a number: bad data\n",
    "Invalid input\n",
    "Enter a number: 7\n",
    "Enter a number: done\n",
    "16 3 5.33333333333\n",
    "```\n",
    "\n",
    "**Important Python concepts:** print(), try, except, break, while\n",
    "\n",
    "**Note:** The input() function displays incorrectly in Jupyter Notebook. Ran without Jupyter, the code before should match the above example data"
   ]
  },
  {
   "cell_type": "code",
   "execution_count": 2,
   "metadata": {},
   "outputs": [
    {
     "name": "stdout",
     "output_type": "stream",
     "text": [
      "Invalid input\n",
      "16 3 5.333333333333333\n"
     ]
    }
   ],
   "source": [
    "cnt = 0\n",
    "num_sum = 0\n",
    "while True:\n",
    "    try:\n",
    "        number = input(\"Enter a number:\")\n",
    "        number = int(number)\n",
    "        cnt += 1 # This statement is the same as cnt = cnt + 1\n",
    "        num_sum += number # This statement is the same as num_sum = num_sum + number\n",
    "    except:\n",
    "        if number == \"done\":\n",
    "            break\n",
    "        else:\n",
    "            print(\"Invalid input\")\n",
    "\n",
    "print(\"{} {} {}\".format(num_sum, cnt, num_sum/cnt))"
   ]
  },
  {
   "cell_type": "markdown",
   "metadata": {},
   "source": [
    "## Exercise 3\n",
    "\n",
    "Write a program that counts how many times each letter appears in a string. The counts for each character should be stored in a dictionary where the character is the key and the value is the count. Print the dictionary at the end.\n",
    "\n",
    "Given the string **'aaabbc'**, the output should be a dictionary **{'a':3, 'b':2, 'c':1}**.\n",
    "\n",
    "We are effectively computing a histogram, which is a statistical term for a set of counters (or frequencies).\n",
    "\n",
    "**Important Python concepts:** dict ({}), for"
   ]
  },
  {
   "cell_type": "code",
   "execution_count": 3,
   "metadata": {},
   "outputs": [],
   "source": [
    "word = 'brontosaurus'"
   ]
  },
  {
   "cell_type": "code",
   "execution_count": 4,
   "metadata": {},
   "outputs": [],
   "source": [
    "char_dict = {} # empty dictionary to store character counts\n",
    "for c in word:\n",
    "    if c in char_dict:\n",
    "        char_dict[c] += 1 # If the character is in the dictionary, increment it by 1.\n",
    "    else:\n",
    "        char_dict[c] = 1 # If the character is not in the dictionary, create it and set the value to 1."
   ]
  },
  {
   "cell_type": "code",
   "execution_count": 5,
   "metadata": {},
   "outputs": [
    {
     "name": "stdout",
     "output_type": "stream",
     "text": [
      "{'b': 1, 'r': 2, 'o': 2, 'n': 1, 't': 1, 's': 2, 'a': 1, 'u': 2}\n"
     ]
    }
   ],
   "source": [
    "print(char_dict)"
   ]
  },
  {
   "cell_type": "markdown",
   "metadata": {},
   "source": [
    "## Exercise 4\n",
    "\n",
    "Read the file 'mbox.txt' line-by-line and calculate (and print) the following:\n",
    "- The total number of lines in the file.\n",
    "- The number of lines that contain the substring 'From:'\n",
    "\n",
    "**Note:** When opening 'mbox.txt', use the path '../data/mbox.txt'\n",
    "\n",
    "**Important Python concepts:** for, if, open(), \"in\" with strings."
   ]
  },
  {
   "cell_type": "code",
   "execution_count": 6,
   "metadata": {},
   "outputs": [],
   "source": [
    "line_cnt = 0\n",
    "from_cnt = 0\n",
    "fileHandle = open('../data/mbox.txt')\n",
    "for line in fileHandle:\n",
    "    if 'From:' in line:\n",
    "        from_cnt += 1\n",
    "    line_cnt += 1"
   ]
  },
  {
   "cell_type": "code",
   "execution_count": 7,
   "metadata": {},
   "outputs": [
    {
     "name": "stdout",
     "output_type": "stream",
     "text": [
      "Line Count: 132045 From Count: 1797\n"
     ]
    }
   ],
   "source": [
    "print(\"Line Count: {} From Count: {}\".format(line_cnt, from_cnt))"
   ]
  },
  {
   "cell_type": "markdown",
   "metadata": {},
   "source": [
    "## Exercise 5\n",
    "\n",
    "Write code that reads the file line-by-line numbers.txt, then does thefollowing:\n",
    "- Sum all the numbers in numbers.txt, then prints the numbers to thescreen.\n",
    "\n",
    "Next, append the string \"SUM: k\", wherekis the calculated sum. to the end of numbers.txt as a new line.\n",
    "\n",
    "Finally, print the entire file to make sure you appended to the file correctly.\n",
    "\n",
    "The absolute path for the file is \"../data/numbers.txt\"\n",
    "\n",
    "**Important Python concepts:** for, open ('a' and 'r'), write(), print()"
   ]
  },
  {
   "cell_type": "code",
   "execution_count": null,
   "metadata": {},
   "outputs": [],
   "source": [
    "!cat ../data/numbers.txt"
   ]
  },
  {
   "cell_type": "code",
   "execution_count": null,
   "metadata": {},
   "outputs": [],
   "source": [
    "# Write reading/summing code here"
   ]
  },
  {
   "cell_type": "code",
   "execution_count": null,
   "metadata": {},
   "outputs": [],
   "source": [
    "# Print sum here"
   ]
  },
  {
   "cell_type": "code",
   "execution_count": null,
   "metadata": {},
   "outputs": [],
   "source": [
    "# Write code to append the sum (\"SUM: k\") to numbers.txt here"
   ]
  },
  {
   "cell_type": "markdown",
   "metadata": {},
   "source": [
    "Run the line below to check your work"
   ]
  },
  {
   "cell_type": "code",
   "execution_count": null,
   "metadata": {},
   "outputs": [],
   "source": [
    "!cat ../data/numbers.txt"
   ]
  },
  {
   "cell_type": "code",
   "execution_count": null,
   "metadata": {},
   "outputs": [],
   "source": [
    "# If you mess up the file and need to try again, run this cell\n",
    "with open('../data/numbers.txt', 'w') as in_file:\n",
    "    in_file.write('42\\n18\\n22\\n18')"
   ]
  },
  {
   "cell_type": "markdown",
   "metadata": {},
   "source": [
    "## Exercise 6\n",
    "\n",
    "Write code that reads the csv file \"housing_prices.csv\" and calculate/print the following:\n",
    "- Calculate and print the sum of all house prices\n",
    "- Calculate and print the average price\n",
    "- Calculate and print the max price (all prices are > 0)\n",
    "- Print the name of the street that contains the house with the most expensive house.\n",
    "\n",
    "The path for the file is \"../data/house_prices.csv\".\n",
    "\n",
    "**Important Python concepts:** for, lists, open ('r'), if (>)\n",
    "\n",
    "Run the cell below to view the \"house_prices.csv\" file."
   ]
  },
  {
   "cell_type": "code",
   "execution_count": null,
   "metadata": {},
   "outputs": [],
   "source": [
    "!cat ../data/house_prices.csv"
   ]
  },
  {
   "cell_type": "code",
   "execution_count": null,
   "metadata": {},
   "outputs": [],
   "source": [
    "# Write code to read CSV and sum house prices here\n",
    "import csv"
   ]
  },
  {
   "cell_type": "code",
   "execution_count": null,
   "metadata": {},
   "outputs": [],
   "source": [
    "# Print the sum, average, and max prices prices in housing_prices.csv here"
   ]
  },
  {
   "cell_type": "code",
   "execution_count": null,
   "metadata": {},
   "outputs": [],
   "source": [
    "# Print the street with the most expensive house here"
   ]
  },
  {
   "cell_type": "markdown",
   "metadata": {},
   "source": [
    "## Exercise 7\n",
    "\n",
    "Given the following list of lists\n",
    "\n",
    "myData = [['name','department','birthday month'], ['JohnDoe','Marketing','November'],['Jane Smith', 'IT', 'March']]\n",
    "\n",
    "create a csv file that is delimited with the tab ('\\t') character using the csv.writer() method. Name the file \"employee_birthday.csv\"."
   ]
  },
  {
   "cell_type": "code",
   "execution_count": null,
   "metadata": {},
   "outputs": [],
   "source": [
    "myData = [['name','department','birthday month'], ['John Doe','Marketing','November'],['Jane Smith', 'IT', 'March']]"
   ]
  },
  {
   "cell_type": "code",
   "execution_count": null,
   "metadata": {},
   "outputs": [],
   "source": [
    "# write code to write the list of lists above to the CSV file \"employee_birthday.csv\"\n",
    "import csv"
   ]
  },
  {
   "cell_type": "markdown",
   "metadata": {},
   "source": [
    "Run the line below to check your work:"
   ]
  },
  {
   "cell_type": "code",
   "execution_count": null,
   "metadata": {},
   "outputs": [],
   "source": [
    "!cat  employee_birthday.csv"
   ]
  }
 ],
 "metadata": {
  "kernelspec": {
   "display_name": "Python 3",
   "language": "python",
   "name": "python3"
  },
  "language_info": {
   "codemirror_mode": {
    "name": "ipython",
    "version": 3
   },
   "file_extension": ".py",
   "mimetype": "text/x-python",
   "name": "python",
   "nbconvert_exporter": "python",
   "pygments_lexer": "ipython3",
   "version": "3.6.4"
  }
 },
 "nbformat": 4,
 "nbformat_minor": 2
}

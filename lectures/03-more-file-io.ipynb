{
 "cells": [
  {
   "cell_type": "markdown",
   "metadata": {},
   "source": [
    "# Python as a Calculator\n",
    "\n",
    "Blank notebook to be used for class exercises."
   ]
  },
  {
   "cell_type": "markdown",
   "metadata": {},
   "source": [
    "## Exercise 1\n",
    "\n",
    "Write code that reads the file line-by-line numbers.txt, then does the following:\n",
    "\n",
    "- Sum all the numbers in numbers.txt, then prints the numbers to the screen.\n",
    "\n",
    "Next, append the string \"SUM: k\", where k is the calculated sum. to the end of numbers.txt as a new line.\n",
    "\n",
    "Finally, print the entire file to make sure you appended to the file correctly.\n",
    "\n",
    "The absolute path for the file is \"../data/numbers.txt\"\n",
    "\n",
    "**Important Python concepts:** for, open ('a' and 'r'), write(), print()"
   ]
  },
  {
   "cell_type": "code",
   "execution_count": 25,
   "metadata": {},
   "outputs": [
    {
     "name": "stdout",
     "output_type": "stream",
     "text": [
      "42\n",
      "18\n",
      "22\n",
      "18\n"
     ]
    }
   ],
   "source": [
    "# If you mess up the file and need to try again, run this cell\n",
    "with open('../data/numbers.txt', 'w') as in_file:\n",
    "    in_file.write('42\\n18\\n22\\n18')\n",
    "with open(\"../data/numbers.txt\") as iFile:\n",
    "    print(iFile.read())"
   ]
  },
  {
   "cell_type": "code",
   "execution_count": null,
   "metadata": {},
   "outputs": [],
   "source": [
    "# Write reading/summing code here"
   ]
  },
  {
   "cell_type": "code",
   "execution_count": null,
   "metadata": {},
   "outputs": [],
   "source": [
    "# Print sum here"
   ]
  },
  {
   "cell_type": "code",
   "execution_count": null,
   "metadata": {},
   "outputs": [],
   "source": [
    "# Write code to append the sum (\"SUM: k\") to numbers.txt here"
   ]
  },
  {
   "cell_type": "markdown",
   "metadata": {},
   "source": [
    "Run the line below to check your work"
   ]
  },
  {
   "cell_type": "code",
   "execution_count": 26,
   "metadata": {},
   "outputs": [
    {
     "name": "stdout",
     "output_type": "stream",
     "text": [
      "42\n",
      "18\n",
      "22\n",
      "18\n"
     ]
    }
   ],
   "source": [
    "with open(\"../data/numbers.txt\") as iFile:\n",
    "    print(iFile.read())"
   ]
  },
  {
   "cell_type": "markdown",
   "metadata": {},
   "source": [
    "## Exercise 2\n",
    "\n",
    "Write code that reads the csv file \"housing_prices.csv\" and calculate/print the following:\n",
    "- Calculate and print the sum of all house prices. Do not use the sum() method\n",
    "- Calculate and print the average price. Do not use any external packages.\n",
    "- Calculate and print the max price (all prices are > 0). Do not use the max() method.\n",
    "- Print the name of the street that contains the house with the most expensive house.\n",
    "\n",
    "The path for the file is \"../data/house_prices.csv\".\n",
    "\n",
    "**Important Python concepts:** for, lists, open ('r'), if (>)\n",
    "\n",
    "Run the cell below to view the \"house_prices.csv\" file."
   ]
  },
  {
   "cell_type": "code",
   "execution_count": 28,
   "metadata": {},
   "outputs": [
    {
     "name": "stdout",
     "output_type": "stream",
     "text": [
      "\"street name\",\"square feet\",\"price\"\n",
      "\"Sreet 1\",400,10000\n",
      "\"Street 2\",650,15000\n",
      "\"Street 3\",1000,20000\n",
      "\n"
     ]
    }
   ],
   "source": [
    "with open(\"../data/house_prices.csv\") as iFile:\n",
    "    print(iFile.read())"
   ]
  },
  {
   "cell_type": "code",
   "execution_count": null,
   "metadata": {},
   "outputs": [],
   "source": [
    "# Write code to read CSV and sum house prices here\n",
    "import csv"
   ]
  },
  {
   "cell_type": "code",
   "execution_count": null,
   "metadata": {},
   "outputs": [],
   "source": [
    "# Print the sum, average, and max prices prices in housing_prices.csv here"
   ]
  },
  {
   "cell_type": "code",
   "execution_count": null,
   "metadata": {},
   "outputs": [],
   "source": [
    "# Print the street with the most expensive house here"
   ]
  },
  {
   "cell_type": "markdown",
   "metadata": {},
   "source": [
    "## Exercise 3\n",
    "\n",
    "Given the following list of lists\n",
    "\n",
    "myData = [['name','department','birthday month'], ['JohnDoe','Marketing','November'],['Jane Smith', 'IT', 'March']]\n",
    "\n",
    "create a csv file that is delimited with the tab ('\\t') character using the csv.writer() method. Name the file \"employee_birthday.csv\"."
   ]
  },
  {
   "cell_type": "code",
   "execution_count": 19,
   "metadata": {},
   "outputs": [],
   "source": [
    "myData = [['name','department','birthday month'], ['John Doe','Marketing','November'],['Jane Smith', 'IT', 'March']]"
   ]
  },
  {
   "cell_type": "code",
   "execution_count": 20,
   "metadata": {},
   "outputs": [],
   "source": [
    "# write code to write the list of lists above to the CSV file \"employee_birthday.csv\"\n",
    "import csv"
   ]
  },
  {
   "cell_type": "markdown",
   "metadata": {},
   "source": [
    "Run the line below to check your work:"
   ]
  },
  {
   "cell_type": "code",
   "execution_count": 21,
   "metadata": {},
   "outputs": [
    {
     "name": "stdout",
     "output_type": "stream",
     "text": [
      "name,department,birthday month\n",
      "John Doe,Marketing,November\n",
      "Jane Smith,IT,March\n",
      "\n"
     ]
    }
   ],
   "source": [
    "with open(\"employee_birthday.csv\", \"r\") as inFile:\n",
    "    print(inFile.read())"
   ]
  },
  {
   "cell_type": "markdown",
   "metadata": {},
   "source": [
    "## Exercise 4\n",
    "\n",
    "A garden center has an XML (plant_catalog.xml) file that stores information, including price, for all plants they sell. The store is having a sale where everything is 20% off. Write a program that that prints the plant \"COMMON\" name, the current price, and the new sale price. An example of what the output should look like is shown below:\n",
    "\n",
    "```\n",
    "Bloodroot $2.44 to $1.95\\\\\n",
    "Columbine $9.37 to $7.50\\\\\n",
    "Marsh Marigold $6.81 to $5.45\\\\\n",
    "...```\n",
    "        \n",
    "File absolute path: \"../data/plant_catalog.xml\"\n",
    "**Hint:** You will need to use \"string indexing\"."
   ]
  },
  {
   "cell_type": "code",
   "execution_count": 14,
   "metadata": {},
   "outputs": [
    {
     "name": "stdout",
     "output_type": "stream",
     "text": [
      "<?xml version=\"1.0\" encoding=\"UTF-8\"?>\n",
      "<CATALOG>\n",
      "  <PLANT>\n",
      "    <COMMON>Bloodroot</COMMON>\n",
      "    <BOTANICAL>Sanguinaria canadensis</BOTANICAL>\n",
      "    <ZONE>4</ZONE>\n",
      "    <LIGHT>Mostly Shady</LIGHT>\n",
      "    <PRICE>$2.44</PRICE>\n",
      "    <AVAILABILITY>031599</AVAILABILITY>\n",
      "  </PLANT>\n",
      "  <PLANT>\n",
      "    <COMMON>Columbine</COMMON>\n",
      "    <BOTANICAL>Aquilegia canadensis</BOTANICAL>\n",
      "    <ZONE>3</ZONE>\n",
      "    <LIGHT>Mostly Shady</LIGHT>\n",
      "    <PRICE>$9.37</PRICE>\n",
      "    <AVAILABILITY>030699</AVAILABILITY>\n",
      "  </PLANT>\n",
      "  <PLANT>\n",
      "    <COMMON>Marsh Marigold</COMMON>\n",
      "    <BOTANICAL>Caltha palustris</BOTANICAL>\n",
      "    <ZONE>4</ZONE>\n",
      "    <LIGHT>Mostly Sunny</LIGHT>\n",
      "    <PRICE>$6.81</PRICE>\n",
      "    <AVAILABILITY>051799</AVAILABILITY>\n",
      "  </PLANT>\n",
      "\n"
     ]
    }
   ],
   "source": [
    "# Use this code to look at the structure of plant_catalog.xml\n",
    "# n = number of lines to show\n",
    "n = 26\n",
    "with open(\"../data/plant_catalog.xml\") as myfile:\n",
    "    head = [next(myfile) for x in range(n)]\n",
    "print(''.join(head))"
   ]
  },
  {
   "cell_type": "code",
   "execution_count": null,
   "metadata": {},
   "outputs": [],
   "source": [
    "# Write code here"
   ]
  },
  {
   "cell_type": "markdown",
   "metadata": {},
   "source": [
    "## Exercise 5\n",
    "\n",
    "Using the \"exampleJSON.json\" file, complete the following tasks:\n",
    "- Load the file into a python dictionary.\n",
    "- Change the email of item with the name \"Anthony\" to \"anthony.rios@utsa.edu\"\n",
    "- Add a new person to the list with the name \"David\" and email \"david@fakeemail.edu\"\n",
    "- Save the new dictionary to a JSON file \"exampleJSON2.json\"\n",
    "\n",
    "File path: ../data/exampleJSON.json"
   ]
  },
  {
   "cell_type": "code",
   "execution_count": 23,
   "metadata": {},
   "outputs": [
    {
     "name": "stdout",
     "output_type": "stream",
     "text": [
      "[{\"name\": \"Anthony\", \"email\": \"a@utsa.edu\", \"age\": 102}, {\"name\": \"John\", \"email\": \"john@fake.edu\"}, {\"name\": \"Jane\", \"email\": \"jane@fake.edu\"}]\n",
      "\n"
     ]
    }
   ],
   "source": [
    "with open(\"../data/exampleJSON.json\") as iFile:\n",
    "    print(iFile.read())"
   ]
  },
  {
   "cell_type": "code",
   "execution_count": null,
   "metadata": {},
   "outputs": [],
   "source": [
    "# Write code here"
   ]
  },
  {
   "cell_type": "markdown",
   "metadata": {},
   "source": [
    "Run the following cell to check your work"
   ]
  },
  {
   "cell_type": "code",
   "execution_count": null,
   "metadata": {},
   "outputs": [],
   "source": [
    "!cat exampleJSON2.json"
   ]
  },
  {
   "cell_type": "markdown",
   "metadata": {},
   "source": [
    "## Exercise 6\n",
    "\n",
    "Write code to loop over the Twitter JSONL file \"twitter.jsonl\" and compute the following:\n",
    "- Count and print the total number of tweets.\n",
    "- Count and print the total number of users are in the dataset. Hint: row['user']['screen_name']\n",
    "- Print the screen name of the user who has the most tweets.\n",
    "\n",
    "**Tip:** Don't process the entire file right away, start by processing 1 to 2 lines.\n",
    "\n",
    "File path: \"../data/twitter.jsonl\"\n",
    "\n",
    "Dataset URL: https://www.dropbox.com/s/5lu497muqq0jver/user_timelines_small.jsonl?dl=0"
   ]
  },
  {
   "cell_type": "markdown",
   "metadata": {},
   "source": [
    "Run the next cell to view the first row line of the file"
   ]
  },
  {
   "cell_type": "code",
   "execution_count": 19,
   "metadata": {},
   "outputs": [
    {
     "name": "stdout",
     "output_type": "stream",
     "text": [
      "{\"truncated\": false, \"full_text\": \"Adam Cole Praises Kevin Owens + A Preview For Next Week\\u2019s ROH Broadcast https://t.co/uIV7TKHs9K\", \"in_reply_to_user_id\": null, \"source\": \"<a href=\\\"https://dlvrit.com/\\\" rel=\\\"nofollow\\\">dlvr.it</a>\", \"entities\": {\"user_mentions\": [], \"symbols\": [], \"urls\": [{\"display_url\": \"dlvr.it/M3sHSw\", \"url\": \"https://t.co/uIV7TKHs9K\", \"expanded_url\": \"http://dlvr.it/M3sHSw\", \"indices\": [72, 95]}], \"hashtags\": []}, \"in_reply_to_screen_name\": null, \"retweeted\": false, \"in_reply_to_status_id\": null, \"display_text_range\": [0, 95], \"id\": 766323071976247296, \"favorite_count\": 1, \"retweet_count\": 0, \"contributors\": null, \"geo\": null, \"id_str\": \"766323071976247296\", \"lang\": \"en\", \"is_quote_status\": false, \"user\": {\"profile_background_tile\": false, \"translator_type\": \"none\", \"location\": \"main; @Kan1shk3\", \"profile_background_color\": \"FFFFFF\", \"default_profile\": false, \"notifications\": false, \"following\": false, \"verified\": false, \"friends_count\": 15, \"entities\": {\"description\": {\"urls\": []}}, \"profile_text_color\": \"333333\", \"profile_use_background_image\": true, \"id\": 2231233110, \"profile_sidebar_fill_color\": \"DDEEF6\", \"is_translation_enabled\": false, \"profile_banner_url\": \"https://pbs.twimg.com/profile_banners/2231233110/1387622004\", \"utc_offset\": null, \"profile_sidebar_border_color\": \"FFFFFF\", \"listed_count\": 34, \"profile_image_url_https\": \"https://pbs.twimg.com/profile_images/414342229096808449/fYvzqXN7_normal.png\", \"description\": \"i sing my own rhythm.\", \"profile_background_image_url_https\": \"https://abs.twimg.com/images/themes/theme1/bg.png\", \"screen_name\": \"sheezy0\", \"follow_request_sent\": false, \"geo_enabled\": false, \"default_profile_image\": false, \"id_str\": \"2231233110\", \"name\": \"\", \"favourites_count\": 0, \"profile_image_url\": \"http://pbs.twimg.com/profile_images/414342229096808449/fYvzqXN7_normal.png\", \"lang\": \"en\", \"followers_count\": 76, \"profile_background_image_url\": \"http://abs.twimg.com/images/themes/theme1/bg.png\", \"is_translator\": false, \"profile_image_extensions_alt_text\": null, \"has_extended_profile\": false, \"protected\": false, \"contributors_enabled\": false, \"time_zone\": null, \"created_at\": \"Thu Dec 05 09:48:45 +0000 2013\", \"url\": null, \"profile_link_color\": \"08C2C2\", \"statuses_count\": 151093}, \"in_reply_to_user_id_str\": null, \"place\": null, \"coordinates\": null, \"possibly_sensitive\": false, \"in_reply_to_status_id_str\": null, \"favorited\": false, \"created_at\": \"Thu Aug 18 17:17:12 +0000 2016\"}\n"
     ]
    }
   ],
   "source": [
    "!head -n1 ../data/twitter.jsonl"
   ]
  },
  {
   "cell_type": "code",
   "execution_count": null,
   "metadata": {},
   "outputs": [],
   "source": [
    "# Write code here"
   ]
  },
  {
   "cell_type": "markdown",
   "metadata": {},
   "source": [
    "# Code below is NOT part of any exercise above."
   ]
  },
  {
   "cell_type": "code",
   "execution_count": 2,
   "metadata": {},
   "outputs": [],
   "source": [
    "twitter_json = '{\"truncated\": false, \"full_text\": \"Adam Cole Praises Kevin Owens + A Preview For Next Week\\u2019s ROH Broadcast https://t.co/uIV7TKHs9K\", \"in_reply_to_user_id\": null, \"source\": \"<a href=\\\"https://dlvrit.com/\\\" rel=\\\"nofollow\\\">dlvr.it</a>\", \"entities\": {\"user_mentions\": [], \"symbols\": [], \"urls\": [{\"display_url\": \"dlvr.it/M3sHSw\", \"url\": \"https://t.co/uIV7TKHs9K\", \"expanded_url\": \"http://dlvr.it/M3sHSw\", \"indices\": [72, 95]}], \"hashtags\": []}, \"in_reply_to_screen_name\": null, \"retweeted\": false, \"in_reply_to_status_id\": null, \"display_text_range\": [0, 95], \"id\": 766323071976247296, \"favorite_count\": 1, \"retweet_count\": 0, \"contributors\": null, \"geo\": null, \"id_str\": \"766323071976247296\", \"lang\": \"en\", \"is_quote_status\": false, \"user\": {\"profile_background_tile\": false, \"translator_type\": \"none\", \"location\": \"main; @Kan1shk3\", \"profile_background_color\": \"FFFFFF\", \"default_profile\": false, \"notifications\": false, \"following\": false, \"verified\": false, \"friends_count\": 15, \"entities\": {\"description\": {\"urls\": []}}, \"profile_text_color\": \"333333\", \"profile_use_background_image\": true, \"id\": 2231233110, \"profile_sidebar_fill_color\": \"DDEEF6\", \"is_translation_enabled\": false, \"profile_banner_url\": \"https://pbs.twimg.com/profile_banners/2231233110/1387622004\", \"utc_offset\": null, \"profile_sidebar_border_color\": \"FFFFFF\", \"listed_count\": 34, \"profile_image_url_https\": \"https://pbs.twimg.com/profile_images/414342229096808449/fYvzqXN7_normal.png\", \"description\": \"i sing my own rhythm.\", \"profile_background_image_url_https\": \"https://abs.twimg.com/images/themes/theme1/bg.png\", \"screen_name\": \"sheezy0\", \"follow_request_sent\": false, \"geo_enabled\": false, \"default_profile_image\": false, \"id_str\": \"2231233110\", \"name\": \"\", \"favourites_count\": 0, \"profile_image_url\": \"http://pbs.twimg.com/profile_images/414342229096808449/fYvzqXN7_normal.png\", \"lang\": \"en\", \"followers_count\": 76, \"profile_background_image_url\": \"http://abs.twimg.com/images/themes/theme1/bg.png\", \"is_translator\": false, \"profile_image_extensions_alt_text\": null, \"has_extended_profile\": false, \"protected\": false, \"contributors_enabled\": false, \"time_zone\": null, \"created_at\": \"Thu Dec 05 09:48:45 +0000 2013\", \"url\": null, \"profile_link_color\": \"08C2C2\", \"statuses_count\": 151093}, \"in_reply_to_user_id_str\": null, \"place\": null, \"coordinates\": null, \"possibly_sensitive\": false, \"in_reply_to_status_id_str\": null, \"favorited\": false, \"created_at\": \"Thu Aug 18 17:17:12 +0000 2016\"}'"
   ]
  },
  {
   "cell_type": "code",
   "execution_count": null,
   "metadata": {},
   "outputs": [],
   "source": []
  }
 ],
 "metadata": {
  "kernelspec": {
   "display_name": "Python 3",
   "language": "python",
   "name": "python3"
  },
  "language_info": {
   "codemirror_mode": {
    "name": "ipython",
    "version": 3
   },
   "file_extension": ".py",
   "mimetype": "text/x-python",
   "name": "python",
   "nbconvert_exporter": "python",
   "pygments_lexer": "ipython3",
   "version": "3.6.4"
  }
 },
 "nbformat": 4,
 "nbformat_minor": 2
}

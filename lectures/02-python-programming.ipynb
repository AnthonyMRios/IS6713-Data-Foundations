{
 "cells": [
  {
   "cell_type": "markdown",
   "metadata": {},
   "source": [
    "# Python as a Calculator\n",
    "\n",
    "Blank notebook to be used for class exercises."
   ]
  },
  {
   "cell_type": "markdown",
   "metadata": {},
   "source": [
    "## Exercise 1: Putting it all together\n",
    "\n",
    "Write a program that does the following:\n",
    "\n",
    "- Prints the numbers 1 to 100\n",
    "- For the  numbers 10 to 25 (including 10 and 25), instead of printing the number, print the word \"cheese\".\n",
    "- For numbers 55 to 100 (including 55, but not including 100), instead of printing the number, print the word \"cake\".\n",
    "- For 100 print the word \"Done!\".\n",
    "\n",
    "**Important Python concepts:** print(), if, elif, else, for"
   ]
  },
  {
   "cell_type": "code",
   "execution_count": null,
   "metadata": {},
   "outputs": [],
   "source": [
    "# Write code here"
   ]
  },
  {
   "cell_type": "markdown",
   "metadata": {},
   "source": [
    "## Exercise 2\n",
    "\n",
    "Write a program which repeatedly reads numbers until the user enters “done”. Once “done” is entered, print out the total, count, and average of the numbers. If the user enters anything other than a number, detect their mistake using try and except and print an error message and skip to the next number.\n",
    "\n",
    "What the code should look like when running:\n",
    "```\n",
    "Enter a number: 4\n",
    "Enter a number: 5\n",
    "Enter a number: bad data\n",
    "Invalid input\n",
    "Enter a number: 7\n",
    "Enter a number: done\n",
    "16 3 5.33333333333\n",
    "```\n",
    "\n",
    "**Important Python concepts:** print(), try, except, break, while"
   ]
  },
  {
   "cell_type": "code",
   "execution_count": null,
   "metadata": {},
   "outputs": [],
   "source": []
  },
  {
   "cell_type": "markdown",
   "metadata": {},
   "source": [
    "## Exercise 3\n",
    "\n",
    "Write a program that counts how many times each letter appears in a string. The counts for each character should be stored in a dictionary where the character is the key and the value is the count. Print the dictionary at the end.\n",
    "\n",
    "Given the string **'aaabbc'**, the output should be a dictionary **{'a':3, 'b':2, 'c':1}**.\n",
    "\n",
    "We are effectively computing a histogram, which is a statistical term for a set of counters (or frequencies).\n",
    "\n",
    "**Important Python concepts:** dict ({}), for"
   ]
  },
  {
   "cell_type": "code",
   "execution_count": null,
   "metadata": {},
   "outputs": [],
   "source": [
    "word = 'brontosaurus'"
   ]
  },
  {
   "cell_type": "code",
   "execution_count": null,
   "metadata": {},
   "outputs": [],
   "source": [
    "# Write code to count the number of times each character appears in \"brontosaurus\" here"
   ]
  },
  {
   "cell_type": "code",
   "execution_count": null,
   "metadata": {},
   "outputs": [],
   "source": [
    "# Print dictionary here"
   ]
  },
  {
   "cell_type": "markdown",
   "metadata": {},
   "source": [
    "## Exercise 4\n",
    "\n",
    "Read the file 'mbox.txt' line-by-line and calculate (and print) the following:\n",
    "- The total number of lines in the file.\n",
    "- The number of lines that contain the substring 'From:'\n",
    "\n",
    "**Note:** When opening 'mbox.txt', use the path '../data/mbox.txt'\n",
    "\n",
    "**Important Python concepts:** for, if, open(), \"in\" with strings."
   ]
  },
  {
   "cell_type": "code",
   "execution_count": null,
   "metadata": {},
   "outputs": [],
   "source": [
    "# Write code to count the numb er of lines and number of lines with \"From:\" here"
   ]
  },
  {
   "cell_type": "code",
   "execution_count": null,
   "metadata": {},
   "outputs": [],
   "source": [
    "# Print counts here"
   ]
  }
 ],
 "metadata": {
  "kernelspec": {
   "display_name": "Python 3",
   "language": "python",
   "name": "python3"
  },
  "language_info": {
   "codemirror_mode": {
    "name": "ipython",
    "version": 3
   },
   "file_extension": ".py",
   "mimetype": "text/x-python",
   "name": "python",
   "nbconvert_exporter": "python",
   "pygments_lexer": "ipython3",
   "version": "3.6.4"
  }
 },
 "nbformat": 4,
 "nbformat_minor": 2
}

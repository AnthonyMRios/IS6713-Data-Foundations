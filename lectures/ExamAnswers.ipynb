{
 "cells": [
  {
   "cell_type": "markdown",
   "metadata": {},
   "source": [
    "# Midterm Review"
   ]
  },
  {
   "cell_type": "markdown",
   "metadata": {},
   "source": [
    "## Exercise 1"
   ]
  },
  {
   "cell_type": "code",
   "execution_count": null,
   "metadata": {},
   "outputs": [],
   "source": [
    "a = set()\n",
    "b = \"test\"\n",
    "a.add(b)\n",
    "a.add(\"test\")\n",
    "print(len(a))"
   ]
  },
  {
   "cell_type": "code",
   "execution_count": null,
   "metadata": {},
   "outputs": [],
   "source": [
    "s = \"abba is a band, is abba\"\n",
    "a = []\n",
    "cnt = 0\n",
    "for item in s.split():\n",
    "\tif 'bb' in item:\n",
    "\t\ta.append(item)\n",
    "print(\"Len1: {} Len2: {}\".format(len(s), len(a)))"
   ]
  },
  {
   "cell_type": "code",
   "execution_count": null,
   "metadata": {},
   "outputs": [],
   "source": [
    "h = {\"yes\":[1,2]}\n",
    "h[\"no\"] = [3,4]\n",
    "for item in h.values():\n",
    "    print(item[0])\n",
    "print(h[0])"
   ]
  },
  {
   "cell_type": "code",
   "execution_count": null,
   "metadata": {},
   "outputs": [],
   "source": [
    "for i in range(0,9,5):\n",
    "\tprint(i)"
   ]
  },
  {
   "cell_type": "markdown",
   "metadata": {},
   "source": [
    "## Exercise 2"
   ]
  },
  {
   "cell_type": "code",
   "execution_count": null,
   "metadata": {},
   "outputs": [],
   "source": [
    "import re\n",
    "regex = \"aa*bb*|b+|(bb|aa)*\"\n",
    "\n",
    "print(re.match(regex, \"aabb\"))\n",
    "print(re.match(regex, \"bbb\"))\n",
    "print(re.match(regex, \"aaa\"))\n",
    "print(re.match(regex, \"aaaa\"))"
   ]
  },
  {
   "cell_type": "markdown",
   "metadata": {},
   "source": [
    "## Exercise 8"
   ]
  },
  {
   "cell_type": "code",
   "execution_count": null,
   "metadata": {},
   "outputs": [],
   "source": [
    "cnt = 0\n",
    "mySum = 0\n",
    "print(\"cnt: {} mySum: {}\".format(cnt, mySum))\n",
    "while cnt < 5 or mySum < 5:\n",
    "\tif cnt % 2 == 1:\n",
    "\t\tmySum += 1\n",
    "\t\tprint(\"cnt: {} mySum: {}\".format(cnt, mySum))\n",
    "\tcnt += 1"
   ]
  },
  {
   "cell_type": "code",
   "execution_count": null,
   "metadata": {},
   "outputs": [],
   "source": []
  }
 ],
 "metadata": {
  "kernelspec": {
   "display_name": "Python 3",
   "language": "python",
   "name": "python3"
  },
  "language_info": {
   "codemirror_mode": {
    "name": "ipython",
    "version": 3
   },
   "file_extension": ".py",
   "mimetype": "text/x-python",
   "name": "python",
   "nbconvert_exporter": "python",
   "pygments_lexer": "ipython3",
   "version": "3.6.4"
  }
 },
 "nbformat": 4,
 "nbformat_minor": 2
}

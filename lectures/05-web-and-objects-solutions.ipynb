{
 "cells": [
  {
   "cell_type": "markdown",
   "metadata": {},
   "source": [
    "# Python as a Calculator\n",
    "\n",
    "Blank notebook to be used for class exercises."
   ]
  },
  {
   "cell_type": "markdown",
   "metadata": {},
   "source": [
    "## Exercise 1\n",
    "\n",
    "Write a program that downloads and counts the total number of words in 'http://data.pr4e.org/romeo.txt'."
   ]
  },
  {
   "cell_type": "code",
   "execution_count": 1,
   "metadata": {},
   "outputs": [
    {
     "name": "stdout",
     "output_type": "stream",
     "text": [
      "33\n"
     ]
    }
   ],
   "source": [
    "import urllib.parse, urllib.request\n",
    "import re\n",
    "\n",
    "url = \"http://data.pr4e.org/romeo.txt\"\n",
    "text = urllib.request.urlopen(url).read()\n",
    "print(len(text.split()))"
   ]
  },
  {
   "cell_type": "markdown",
   "metadata": {},
   "source": [
    "## Exercise 2\n",
    "Write code to query http://duckduckgo.com/html/ with the key query \"data science\".  Parse the resulting page by returning all the **unique** web URLs. Return only the base URLs (http://duckduckgo.com, www.duckduckgo.com, ...)\n",
    "        \n",
    "hint: Use re.findall()"
   ]
  },
  {
   "cell_type": "code",
   "execution_count": 4,
   "metadata": {},
   "outputs": [
    {
     "name": "stdout",
     "output_type": "stream",
     "text": [
      "{'www.datarobot.com', 'www.investopedia.com', 'www.reddit.com', 'www.wpi.edu', 'www.edureka.co', 'www.vanderbilt.edu', 'www.udemy.com', 'www.springboard.com', 'www.codecademy.com', 'www.datascience.com', 'www.datasciencecentral.com', 'www.udacity.com', 'www.edx.org', 'www.quora.com', 'www.coursera.org'}\n"
     ]
    }
   ],
   "source": [
    "import urllib.parse, urllib.request\n",
    "import re\n",
    "\n",
    "#<table class=\"wikitable sortable jquery-tablesorter\">\n",
    "\n",
    "from bs4 import BeautifulSoup\n",
    "\n",
    "baseurl = \"http://duckduckgo.com/html/\"\n",
    "\n",
    "myParams = {\"q\":\"Data Science\"}\n",
    "\n",
    "finalURL = baseurl + '?' + urllib.parse.urlencode(myParams)\n",
    "\n",
    "html = urllib.request.urlopen(finalURL).read()\n",
    "\n",
    "matches = re.findall('www\\.[a-z]+\\.[a-z]+', html.decode())\n",
    "\n",
    "print(set(matches))"
   ]
  },
  {
   "cell_type": "markdown",
   "metadata": {},
   "source": [
    "## Exercise 3\n",
    "\n",
    "Find another table on Wikipedia and use the BeautifulSoup package to parse the table."
   ]
  },
  {
   "cell_type": "code",
   "execution_count": 29,
   "metadata": {},
   "outputs": [
    {
     "name": "stdout",
     "output_type": "stream",
     "text": [
      "[]\n",
      "['CV', 'Generic aircraft carrier']\n",
      "['CVA', 'Attack carrier']\n",
      "['CVB', 'Large aircraft carrier (retired)']\n",
      "['CVAN', 'Nuclear-powered attack carrier']\n",
      "['CVE', 'Escort carrier']\n",
      "['CVG', 'Flight deck cruiser (proposed)']\n",
      "['CVHA', 'Aircraft carrier, Helicopter Assault (retired)']\n",
      "['CVHE', 'Aircraft carrier, Helicopter, Escort (retired)']\n",
      "['CVV', 'Aircraft Carrier (Medium) (proposed)']\n",
      "['CVL', 'Light aircraft carrier']\n",
      "['CVN', 'Nuclear-powered aircraft carrier']\n",
      "['CVS', 'Anti-submarine warfare carrier']\n",
      "['LHA', 'Landing Helicopter Assault, a type of amphibious assault ship']\n",
      "['LHD', 'Landing Helicopter Dock, a type of amphibious assault ship']\n",
      "['LPH', 'Landing Platform Helicopter, a type of amphibious assault ship']\n"
     ]
    }
   ],
   "source": [
    "import urllib\n",
    "\n",
    "url = 'https://en.wikipedia.org/wiki/Aircraft_carrier'\n",
    "html = urllib.request.urlopen(url).read()\n",
    "soup = BeautifulSoup(html,'lxml')\n",
    "\n",
    "myTable = soup.find('table',{'class':'wikitable'})\n",
    "\n",
    "tbody = myTable.find('tbody')\n",
    "\n",
    "rows = tbody.find_all('tr')\n",
    "for row in rows:\n",
    "    cols = row.find_all('td')\n",
    "    cols = [ele.text.strip() for ele in cols]\n",
    "    print(cols)"
   ]
  },
  {
   "cell_type": "markdown",
   "metadata": {},
   "source": [
    "## Exercise 4\n",
    "\n",
    "Write a class named “CheckingAccount” that contains the currentbalanceof the account (an int) and the following methods:\n",
    "\n",
    "- **init** - takes a “balance” parameter to initialize the data (balance)of the object.\n",
    "- **withdraw** - takes an input parameter “amount” and modifies thedata by reducing the balance.  If “amount” results in an overdraw,subtract an extra 20 dollars.  This method should return the balancebalance.\n",
    "- **deposit** - takes an input parameter “amount” and modifies the databy increasing the balance by “amount”.\n",
    "\n",
    "Write a few test cases to check your work"
   ]
  },
  {
   "cell_type": "code",
   "execution_count": 36,
   "metadata": {},
   "outputs": [
    {
     "name": "stdout",
     "output_type": "stream",
     "text": [
      "100\n",
      "Old: 100 New: -40\n"
     ]
    }
   ],
   "source": [
    "class CheckingAccount:\n",
    "    balance = 0\n",
    "    def __init__(self, balance):\n",
    "        self.balance = balance\n",
    "        \n",
    "    def withdraw(self, amount):\n",
    "        self.balance -= amount\n",
    "        \n",
    "        if self.balance < 0:\n",
    "            self.balance -= 20\n",
    "            \n",
    "        return self.balance\n",
    "        \n",
    "    def deposit(self, amount):\n",
    "        self.balance += amount\n",
    "\n",
    "startBal = 100\n",
    "\n",
    "checkAcc = CheckingAccount(100)\n",
    "\n",
    "print(checkAcc.balance)\n",
    "\n",
    "newBal = checkAcc.withdraw(120)\n",
    "\n",
    "print(\"Old: {} New: {}\".format(startBal, newBal))"
   ]
  },
  {
   "cell_type": "markdown",
   "metadata": {},
   "source": [
    "## Exercise 5\n",
    "\n",
    "Answer the following questions before running the code below:\n",
    "\n",
    "- What are the parent and child classes here?\n",
    "- What does the code print out?  (Try figuring it out without running itin Python)\n",
    "- Which get description method is called when ‘studyspell(Confundo())’ is executed?  Why?\n",
    "- What do we need to do so that ‘print(Accio())’ will print theappropriate description (‘This charm summons an object to the caster,potentially over a significant distance’)?  Change to code to do this."
   ]
  },
  {
   "cell_type": "code",
   "execution_count": 3,
   "metadata": {},
   "outputs": [],
   "source": [
    "class Spell:\n",
    "    name = ''\n",
    "    incantation = ''\n",
    "    \n",
    "    def __init__(self, incantation, name):\n",
    "        self.name = name\n",
    "        self.incantation = incantation\n",
    "        \n",
    "    def __str__(self):\n",
    "        return self.name + \" \" + self.incantation + \"\\n\" + self.get_description()\n",
    "    \n",
    "    def get_description(self):\n",
    "        return \"No description\"\n",
    "    \n",
    "    def execute(self):\n",
    "        print(self.incantation)\n",
    "        \n",
    "class Accio(Spell):\n",
    "    def __init__(self):\n",
    "        Spell.__init__(self, \"Accio\", \"Summoning Charm\")\n",
    "        \n",
    "class Confundo(Spell):\n",
    "    def __init__(self):\n",
    "        Spell.__init__(self, \"Confundo\", \"Confundus Charm\")\n",
    "        \n",
    "    def get_description(self):\n",
    "        return \"Causes the victim to become confused and befuddled.\"\n",
    "    \n",
    "def study_spell(spell):\n",
    "    print(spell)"
   ]
  },
  {
   "cell_type": "code",
   "execution_count": null,
   "metadata": {},
   "outputs": [],
   "source": [
    "# DO NOT RUN THIS CELL UNTIL YOU ANSWER THE QUESTIONS ABOVE!\n",
    "spell = Accio()\n",
    "spell.execute()\n",
    "study_spell(spell)\n",
    "study_spell(Confundo())"
   ]
  }
 ],
 "metadata": {
  "kernelspec": {
   "display_name": "Python 3",
   "language": "python",
   "name": "python3"
  },
  "language_info": {
   "codemirror_mode": {
    "name": "ipython",
    "version": 3
   },
   "file_extension": ".py",
   "mimetype": "text/x-python",
   "name": "python",
   "nbconvert_exporter": "python",
   "pygments_lexer": "ipython3",
   "version": "3.6.4"
  }
 },
 "nbformat": 4,
 "nbformat_minor": 2
}

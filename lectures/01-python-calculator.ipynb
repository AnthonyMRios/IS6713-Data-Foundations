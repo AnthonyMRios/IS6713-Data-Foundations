{
 "cells": [
  {
   "cell_type": "markdown",
   "metadata": {},
   "source": [
    "# Python as a Calculator\n",
    "\n",
    "Blank notebook to be used for class exercises.\n",
    "\n",
    "Name:\n",
    "\n",
    "abc123:"
   ]
  },
  {
   "cell_type": "markdown",
   "metadata": {},
   "source": [
    "## Exercise 1\n",
    "\n",
    "Change Hello to Goodbye, then run the cell."
   ]
  },
  {
   "cell_type": "code",
   "execution_count": 1,
   "metadata": {},
   "outputs": [
    {
     "name": "stdout",
     "output_type": "stream",
     "text": [
      "Hello World!\n"
     ]
    }
   ],
   "source": [
    "print(\"Hello World!\")"
   ]
  },
  {
   "cell_type": "markdown",
   "metadata": {},
   "source": [
    "## Exercise 2\n",
    "In the cell below, calculate the following expressions (cast to integers using int()):\n",
    "\n",
    "| a | b|\n",
    "----|---- |\n",
    "| 12 + 4  | 12 + 5 |\n",
    "| 12 -4   | 12 - 5 |\n",
    "| 12 $\\times$ 4 | 12 $\\times$ 5 |\n",
    "| 12 $\\div$ 4 | 12 $\\div$ 5|\n",
    "| $12^4$ | $12^5$ |\n",
    "\n",
    "Which is wrong?"
   ]
  },
  {
   "cell_type": "code",
   "execution_count": 2,
   "metadata": {},
   "outputs": [
    {
     "data": {
      "text/plain": [
       "16"
      ]
     },
     "execution_count": 2,
     "metadata": {},
     "output_type": "execute_result"
    }
   ],
   "source": [
    "int(12 + 4)"
   ]
  },
  {
   "cell_type": "markdown",
   "metadata": {},
   "source": [
    "## Exercise 3\n",
    "\n",
    "In the cell below, calculate the following expressions one at a time:\n",
    "\n",
    "1. 12.0 + 4.0\n",
    "2. 12.0 $\\div$ 4.0\n",
    "3. $25.0^{0.5}$\n",
    "4. $5.0^{-1.0}$\n",
    "5. 5.0 $\\div$ 2"
   ]
  },
  {
   "cell_type": "code",
   "execution_count": null,
   "metadata": {},
   "outputs": [],
   "source": []
  },
  {
   "cell_type": "markdown",
   "metadata": {},
   "source": [
    "## Exercise 4\n",
    "\n",
    "First, predict what the python result will be. Next, in the cell below, calculate the following expressions one at a time:\n",
    "\n",
    "1. 'Hello, ' + \"world!\"\n",
    "2. 'Hello!' * 3\n",
    "3. '' * 10000000000 # two adjacent single quotes\n",
    "4. '4' + '2'"
   ]
  },
  {
   "cell_type": "code",
   "execution_count": null,
   "metadata": {},
   "outputs": [],
   "source": []
  },
  {
   "cell_type": "markdown",
   "metadata": {},
   "source": [
    "## Exercise 5\n",
    "\n",
    "Predict whether Python will print True or False before you type the following expressions.\n",
    "\n",
    "1. 1 > 2 or 2 > 1\n",
    "2. 1 > 2 or not 2 > 1\n",
    "3. not True\n",
    "4. 1 > 2 or True"
   ]
  },
  {
   "cell_type": "code",
   "execution_count": null,
   "metadata": {},
   "outputs": [],
   "source": []
  },
  {
   "cell_type": "markdown",
   "metadata": {},
   "source": [
    "## Exercise 6\n",
    "\n",
    "Write the if, elif, else statements to process a score between 0.0 and 1.0. If the score is out of range, print an error message. If the score is between 0.0 and 1.0, print the grade using the following table:\n",
    "\n",
    "| Score | Grade |\n",
    "| ----- | ----- |\n",
    "| $\\geq$ 0.9 | A |\n",
    "| $\\geq$ 0.8 | B |\n",
    "| $\\geq$ 0.7 | C |\n",
    "| $\\geq$ 0.6 | D |\n",
    "| $<$ 0.6 | F |"
   ]
  },
  {
   "cell_type": "code",
   "execution_count": 3,
   "metadata": {},
   "outputs": [],
   "source": [
    "score = 0.72"
   ]
  },
  {
   "cell_type": "code",
   "execution_count": 6,
   "metadata": {},
   "outputs": [
    {
     "name": "stdout",
     "output_type": "stream",
     "text": [
      "A\n"
     ]
    }
   ],
   "source": [
    "# Delete example if and else, then write code here\n",
    "if True:\n",
    "    print(\"A\")\n",
    "else:\n",
    "    print(\"F\")"
   ]
  }
 ],
 "metadata": {
  "kernelspec": {
   "display_name": "Python 3",
   "language": "python",
   "name": "python3"
  },
  "language_info": {
   "codemirror_mode": {
    "name": "ipython",
    "version": 3
   },
   "file_extension": ".py",
   "mimetype": "text/x-python",
   "name": "python",
   "nbconvert_exporter": "python",
   "pygments_lexer": "ipython3",
   "version": "3.6.4"
  }
 },
 "nbformat": 4,
 "nbformat_minor": 2
}

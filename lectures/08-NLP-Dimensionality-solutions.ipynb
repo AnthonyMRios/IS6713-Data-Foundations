{
 "cells": [
  {
   "cell_type": "markdown",
   "metadata": {},
   "source": [
    "# Python as a Calculator\n",
    "\n",
    "Blank notebook to be used for class exercises."
   ]
  },
  {
   "cell_type": "markdown",
   "metadata": {},
   "source": [
    "## Exercise 1\n",
    "\n",
    "Expand on Exercise 5 from 07-Machine-Learning-NLP.ipynb to include CountVectorizer parameters in the GridSearchCV with Pipelines. Include the following CountVectorizer Parameters: stop_words = ['english, None], lowercase=[False, True], and min_df=[1, 5, 10]\n",
    "\n",
    "- What are the parameters that produce the best micro F1?"
   ]
  },
  {
   "cell_type": "code",
   "execution_count": 8,
   "metadata": {},
   "outputs": [
    {
     "name": "stdout",
     "output_type": "stream",
     "text": [
      "Best Score: 0.43633807217622245\n"
     ]
    }
   ],
   "source": [
    "from sklearn.model_selection import train_test_split\n",
    "from sklearn.pipeline import Pipeline\n",
    "from sklearn.svm import LinearSVC\n",
    "from sklearn.model_selection import GridSearchCV\n",
    "from sklearn.feature_extraction.text import CountVectorizer\n",
    "\n",
    "import csv\n",
    "import numpy as np\n",
    "import random\n",
    "\n",
    "\n",
    "random.seed(42)\n",
    "np.random.seed(42)\n",
    "\n",
    "X_txt = []\n",
    "y = []\n",
    "with open('../data/sentiment-twitter-data.tsv') as in_file:\n",
    "    iCSV = csv.reader(in_file, delimiter='\\t')\n",
    "    for row in iCSV:\n",
    "        X_txt.append(row[3])\n",
    "        y.append(row[2])\n",
    "        \n",
    "X_train_txt, X_test_txt, y_train, y_test = train_test_split(X_txt, y,\n",
    "                                                            test_size=0.2,\n",
    "                                                            random_state=42)\n",
    "\n",
    "params = {'vect__ngram_range':[(1,1), (1,2)],\n",
    "          'clf__C':[0.1, 1.]}\n",
    "\n",
    "pipe = Pipeline([(\"vect\", CountVectorizer()),\n",
    "                 (\"clf\", LinearSVC())])\n",
    "\n",
    "clf = GridSearchCV(pipe, params, cv=2)\n",
    "\n",
    "clf.fit(X_train_txt,y_train)\n",
    "\n",
    "print(\"Best Score: {}\".format(clf.best_score_))\n",
    "\n"
   ]
  },
  {
   "cell_type": "markdown",
   "metadata": {},
   "source": [
    "## Exercise 2\n",
    "\n",
    "Expanding on Exercise 1, and using the same data, do the following:\n",
    "\n",
    "- Apply SelectKBest() with chi2 on the training data. What are the most important features with a k=10?\n",
    "- Add SelectKBest() to the gridsearch pipeline from Exercise 2. Grid-Search over various choices of K. Choose K on your own.\n",
    "    - What is the best K?\n",
    "    - Did the performance improve over the model trained on the entire set of features?"
   ]
  },
  {
   "cell_type": "code",
   "execution_count": 9,
   "metadata": {},
   "outputs": [
    {
     "name": "stdout",
     "output_type": "stream",
     "text": [
      "['co' 'excited' 'good' 'great' 'happy' 'http' 'love' 'lt' 'not' 'wait']\n"
     ]
    }
   ],
   "source": [
    "from sklearn.feature_selection import SelectKBest, chi2\n",
    "\n",
    "\n",
    "vec = CountVectorizer()\n",
    "\n",
    "X_matrix = vec.fit_transform(X_train_txt)\n",
    "\n",
    "skb = SelectKBest(chi2, k=10)\n",
    "\n",
    "skb.fit(X_matrix,y_train)\n",
    "\n",
    "best_feats = np.array(vec.get_feature_names())[skb.get_support(indices=True)]\n",
    "print(best_feats)"
   ]
  },
  {
   "cell_type": "markdown",
   "metadata": {},
   "source": [
    "## Exercise 3\n",
    "\n",
    "Apply PCA with 2 dimensions to the iris dataset, then plot the resulting projections."
   ]
  },
  {
   "cell_type": "code",
   "execution_count": 10,
   "metadata": {},
   "outputs": [],
   "source": [
    "import csv\n",
    "import numpy as np\n",
    "X = []\n",
    "y = []\n",
    "with open('../data/datasets/iris/iris.csv') as in_file:\n",
    "    iCSV = csv.reader(in_file, delimiter=',')\n",
    "    for row in iCSV:\n",
    "        y.append(row[-1])\n",
    "        X.append([float(x) for x in row[:-1]])\n",
    "X = np.array(X)\n",
    "y = np.array(y)"
   ]
  },
  {
   "cell_type": "code",
   "execution_count": 13,
   "metadata": {},
   "outputs": [],
   "source": [
    "from sklearn.decomposition import PCA\n",
    "\n",
    "pca = PCA(n_components=2)\n",
    "\n",
    "X_small = pca.fit_transform(X)"
   ]
  },
  {
   "cell_type": "code",
   "execution_count": 14,
   "metadata": {},
   "outputs": [
    {
     "data": {
      "image/png": "[encoded data removed]",
      "text/plain": [
       "<matplotlib.figure.Figure at 0x1a19b89c50>"
      ]
     },
     "metadata": {
      "needs_background": "light"
     },
     "output_type": "display_data"
    }
   ],
   "source": [
    "%matplotlib inline\n",
    "\n",
    "# DO NOT Change this cell!!!\n",
    "\n",
    "import matplotlib\n",
    "import matplotlib.pyplot as plt\n",
    "\n",
    "fig = plt.figure(figsize = (8,8))\n",
    "ax = fig.add_subplot(1,1,1) \n",
    "ax.set_xlabel('Principal Component 1', fontsize = 15)\n",
    "ax.set_ylabel('Principal Component 2', fontsize = 15)\n",
    "ax.set_title('2 component PCA', fontsize = 20)\n",
    "targets = ['Iris-setosa', 'Iris-versicolor', 'Iris-virginica']\n",
    "colors = ['r', 'g', 'b']\n",
    "for target, color in zip(targets,colors):\n",
    "    indicesToKeep = y == target\n",
    "    ax.scatter(X_small[indicesToKeep,0]\n",
    "               , X_small[indicesToKeep,1]\n",
    "               , c = color\n",
    "               , s = 50)\n",
    "ax.legend(targets)\n",
    "ax.grid()"
   ]
  },
  {
   "cell_type": "markdown",
   "metadata": {},
   "source": [
    "## Exercise 4\n",
    "\n",
    "Using the  ``prima-indians-diabetes.csv'' dataset compare the F1 score of the following missing data strategies:\n",
    "\n",
    "- Remove all columns with missing values\n",
    "- Impute using the mean value.\n",
    "- Impute using the median\n",
    "\n",
    "What is the best missing data strategy for this dataset?\n",
    "\n",
    "**Note:** Missing values are set to 0 in this dataset and only the following columns can have missing values: 2, 3, 4, 5, 6\n",
    "\n",
    "You will need to convert the 0 values to np.nan.\n",
    "\n",
    "Here are what the columns represents:\n",
    "\n",
    "<ol start=\"0\">\n",
    "<li>Number of times pregnant.</li>\n",
    "<li>Plasma glucose concentration a 2 hours in an oral glucose tolerance test.</li>\n",
    "<li>Diastolic blood pressure (mm Hg).</li>\n",
    "<li>Triceps skinfold thickness (mm).</li>\n",
    "<li>2-Hour serum insulin (mu U/ml).</li>\n",
    "<li>Body mass index (weight in kg/(height in m)^2).</li>\n",
    "<li>Diabetes pedigree function.</li>\n",
    "<li>Age (years).</li>\n",
    "<li>Class variable (0 or 1).</li>\n",
    "</ol>"
   ]
  },
  {
   "cell_type": "code",
   "execution_count": 9,
   "metadata": {},
   "outputs": [
    {
     "name": "stdout",
     "output_type": "stream",
     "text": [
      "[35. 29. nan 23. 35. nan 32. nan 45. nan nan nan nan 23. 19. nan 47. nan\n",
      " 38. 30. 41. nan nan 35. 33. 26. nan 15. 19. nan 26. 36. 11. nan 31. 33.\n",
      " nan 37. 42. 47. 25. nan 18. 24. nan 39. nan 27. 32. nan 11. 15. 21. 34.\n",
      " 42. 10. 39. 60. nan 41. nan nan nan 34. nan 27. 30. nan 13. 27. 20. 35.\n",
      " nan 20. 30. 20. nan 33. nan 22. 13. nan 26. 28. nan 29. 54. 25. 32. 19.\n",
      " nan 15. 40. nan 18. 27. 28. 18. 30. 51. nan nan nan 18. nan 29. nan 28.\n",
      " 31. 25. 33. 26. 34. nan 32. nan nan nan 23. 15. 56. 39. 30. nan nan 42.\n",
      " 30. 36. 24. nan 14. nan 37. 31. 13. 20. 26. 25. nan 29. nan 30. 26. nan\n",
      " 31. 23. 37. 35. nan 17. 50. nan 28. 42. nan 44. 15. 21. 19. 41. 38. 40.\n",
      " 34. 23. nan 18. 25. nan nan 12. nan 23. 23. 42. 24. 42. nan 46. nan nan\n",
      " nan 18. 20. nan nan 28. 36. 41. 39. 35. nan 44. nan nan 20. 41. nan 13.\n",
      " 44. 27. 16. nan 20. 16. 32. 28. 29. nan 27. 33. 22. 54. 31. 26. 32. 40.\n",
      " 41. 30. 22. nan 29. nan nan 33. 15. 27. nan 38. 39. 31. nan 37. 25. nan\n",
      " 28. nan 21. 27. 21. nan 24. 32. nan 22. 35. 15. nan 33. 33. 19. nan nan\n",
      " 14. 32.  7. 35. 39. 22. 16. 28. 15. nan 32. 15. nan 18. nan 42. nan nan\n",
      " 37. 32. nan 50. nan 52. 24. 23. nan 10. nan 28. 15. nan nan 26. 44. 39.\n",
      " 17. 43. 29. 30. 37. 45. nan 31. 38. 29. 25. nan nan 33. 41. nan nan 37.\n",
      " 23. 14. 19. 28. 30. 37. 17. 10. 31. 22. 11. nan 39. nan 12. 30. 20. 33.\n",
      " 32. 21. 32. nan 36. 32. 19. 16. nan nan 18. 43. nan nan 34. nan 13. 21.\n",
      " 35. nan nan 36. 19. nan 19. 32. nan nan 28. 12. nan nan 40. 30. 40. 36.\n",
      " 33. nan 37. nan 25. 28. nan 17. 16. 28. 48. 23. 22. 40. 43. 43. 15. 37.\n",
      " nan 39. 30. 22.  8. 18. 24. 13. 29. 36. 26. 23. 29. nan 14. 12. nan 24.\n",
      " 34. 40. nan 31. nan nan 41. 25. nan 32. nan nan nan 49. 39. 30. 23. 22.\n",
      " 35. 33. 21. 32. nan 29. 41. 18. 46. 22. 32. 39. nan 30. 46. 25. nan 16.\n",
      " 11. nan  8. nan 33. nan 15. nan 25. 23. 27. nan 12. 63. 12. 45. 37. 18.\n",
      " 13. nan 32. nan 28. 30. nan 28. 48. 33. 22. nan 40. 30. nan 13. 10. 36.\n",
      " nan 41. 40. 38. 27. nan nan 27. 45. 17. 38. 31. 30. 37. 22. 31. nan 42.\n",
      " 41. 32. 17. nan 28. 30. 38. 18. nan nan nan 15. 33. 32. 19. 32. 41. 25.\n",
      " 39. nan 26. 23. 23. nan 31. 17. nan nan 19. 18. 34. nan nan  7. 32. 33.\n",
      " nan nan nan 18. 19. 15. 31. nan 18. nan 52. nan 30. nan nan nan 37. 49.\n",
      " 40. 25. 32. 23. 29. 35. 27. 21. 43. 31. 28. 30. nan 24. 23. 33. 40. nan\n",
      " 40. nan nan 32. 34. 19. nan 14. 30. 32. 29. 30. nan nan 31. 17. 30. 47.\n",
      " 20. nan nan 99. 46. 27. 17. nan 24. 11. nan nan 27. nan 40. 50. nan 22.\n",
      " 45. 14. nan 19. nan 18. 19. nan 36. 29. nan 32. 42. 25. 39. 13. 21. 22.\n",
      " 42. 28. 26. nan nan 13. 24. nan 42. 20. nan 27. nan 47. nan nan nan 22.\n",
      " nan 40. nan 17. nan nan nan 18. 32. 12. 17. nan nan nan 30. 35. 17. 36.\n",
      " 35. 25. 25. 23. 40. nan 28. 27. 35. 48. nan 31. nan 43. 46. 46. 39. 45.\n",
      " 18. 27. 33. 30. 26. 10. 23. 35. nan nan nan nan nan 17. 28. 36. 39. nan\n",
      " nan 26. nan 19. 26. 46. nan nan 32. 49. nan 24. 19. nan 11. nan 27. 31.\n",
      " 29. nan 20. 36. nan 21. nan 32. 13. 27. 36. 20. nan 33. 39. 18. 46. 27.\n",
      " 19. 36. 29. 30. nan 40. 29. 26. nan nan 23. nan 37. 27. nan 32. 27. 23.\n",
      " 17. nan 37. 20. 18. nan 37. 33. 41. 41. 22. nan nan 39. 24. 44. 32. 39.\n",
      " 41. nan nan nan 26. 31. nan 48. 27. 23. nan 31.]\n"
     ]
    }
   ],
   "source": [
    "import csv\n",
    "import numpy as np\n",
    "X = []\n",
    "y = []\n",
    "with open('../data/prima-indians-diabetes.csv') as in_file:\n",
    "    iCSV = csv.reader(in_file, delimiter=',')\n",
    "    for row in iCSV:\n",
    "        y.append(float(row[-1]))\n",
    "        X.append([float(x) for x in row[:-1]])\n",
    "X = np.array(X)\n",
    "X[X[:,1] == 0,1] = np.nan\n",
    "X[X[:,2] == 0,2] = np.nan\n",
    "X[X[:,3] == 0,3] = np.nan\n",
    "X[X[:,4] == 0,4] = np.nan\n",
    "X[X[:,5] == 0,5] = np.nan\n",
    "\n",
    "print(X[:,3])\n",
    "\n",
    "y = np.array(y)"
   ]
  },
  {
   "cell_type": "code",
   "execution_count": 20,
   "metadata": {},
   "outputs": [
    {
     "name": "stdout",
     "output_type": "stream",
     "text": [
      "MEAN: 0.6542056074766355 Val: 0.762214983713355\n",
      "MEDIAN: 0.6542056074766355 Val: 0.7654723127035831\n",
      "Remove Cols: 0.25 Val: 0.6742671009771987\n"
     ]
    }
   ],
   "source": [
    "from sklearn.preprocessing import Imputer\n",
    "from sklearn.model_selection import train_test_split\n",
    "from sklearn.svm import SVC\n",
    "from sklearn.metrics import f1_score\n",
    "from sklearn.model_selection import GridSearchCV\n",
    "\n",
    "X_train, X_test, y_train, y_test = train_test_split(X, y, test_size=0.2, random_state=42)\n",
    "\n",
    "\n",
    "# IMPUTE WITH MEAN\n",
    "imp = Imputer(missing_values=np.nan, strategy='mean')\n",
    "X_train_mean = imp.fit_transform(X_train)\n",
    "\n",
    "params = {'kernel':['linear','rbf'], 'C':[1e-4, 1e-3, 1e-2, 1e-1, 1., 10]}\n",
    "X_test_mean = imp.transform(X_test)\n",
    "\n",
    "svm = SVC()\n",
    "clf = GridSearchCV(svm, params, cv=2, scoring='f1_micro')\n",
    "clf.fit(X_train_mean, y_train)\n",
    "preds = clf.predict(X_test_mean)\n",
    "\n",
    "print(\"MEAN:\",f1_score(y_test, preds), 'Val:', clf.best_score_)\n",
    "\n",
    "# IMPUTE WITH MEAN\n",
    "imp = Imputer(missing_values=np.nan, strategy='median')\n",
    "X_train_med = imp.fit_transform(X_train)\n",
    "\n",
    "X_test_med = imp.transform(X_test)\n",
    "\n",
    "svm = SVC()\n",
    "clf = GridSearchCV(svm, params, cv=2, scoring='f1_micro')\n",
    "clf.fit(X_train_med, y_train)\n",
    "preds = clf.predict(X_test_med)\n",
    "\n",
    "print(\"MEDIAN:\", f1_score(y_test, preds), 'Val:', clf.best_score_)\n",
    "\n",
    "# IMPUTE WITH MEAN\n",
    "mask = np.isnan(X).any(axis=0)\n",
    "X_train_filt = X_train[:,~mask]\n",
    "X_test_filt = X_test[:,~mask]\n",
    "\n",
    "svm = SVC()\n",
    "clf = GridSearchCV(svm, params, cv=2, scoring='f1_micro')\n",
    "clf.fit(X_train_filt, y_train)\n",
    "preds = clf.predict(X_test_filt)\n",
    "\n",
    "print(\"Remove Cols:\",f1_score(y_test, preds), 'Val:', clf.best_score_)"
   ]
  },
  {
   "cell_type": "code",
   "execution_count": null,
   "metadata": {},
   "outputs": [],
   "source": []
  }
 ],
 "metadata": {
  "kernelspec": {
   "display_name": "Python 3",
   "language": "python",
   "name": "python3"
  },
  "language_info": {
   "codemirror_mode": {
    "name": "ipython",
    "version": 3
   },
   "file_extension": ".py",
   "mimetype": "text/x-python",
   "name": "python",
   "nbconvert_exporter": "python",
   "pygments_lexer": "ipython3",
   "version": "3.6.4"
  }
 },
 "nbformat": 4,
 "nbformat_minor": 2
}

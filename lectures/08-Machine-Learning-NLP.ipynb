{
 "cells": [
  {
   "cell_type": "markdown",
   "metadata": {},
   "source": [
    "# Python as a Calculator\n",
    "\n",
    "Blank notebook to be used for class exercises."
   ]
  },
  {
   "cell_type": "markdown",
   "metadata": {},
   "source": [
    "## Exercise 1\n",
    "\n",
    "Write code to load the data in the \"iris.csv\". The first 4 columns are the features. The last column is the the class. Don't forget to convert the dataset into a numpy array.\n",
    "\n",
    "After the dataset is loaded, create train and test partitions using the following scikit-learn method:\n",
    "\n",
    "https://scikit-learn.org/stable/modules/generated/sklearn.model_selection.train_test_split.html\n",
    "\n",
    "File path: ../data/datasets/iris/iris.csv"
   ]
  },
  {
   "cell_type": "code",
   "execution_count": null,
   "metadata": {},
   "outputs": [],
   "source": [
    "# Write code here"
   ]
  },
  {
   "cell_type": "markdown",
   "metadata": {},
   "source": [
    "## Exercise 2\n",
    "\n",
    "Using the iris data you loaded in Exercise 4, train an SVM on the train split and evaulate using accuracy on the test split. Fiddle with the parameters of the SVM to see how it effects the performance.\n",
    "\n",
    "Next, try using a different classifier, a random forest, and see how it compares to the SVM\n",
    "    \n",
    "https://scikit-learn.org/stable/modules/generated/sklearn.ensemble.RandomForestClassifier.html}"
   ]
  },
  {
   "cell_type": "code",
   "execution_count": null,
   "metadata": {},
   "outputs": [],
   "source": [
    "# Write code here"
   ]
  },
  {
   "cell_type": "markdown",
   "metadata": {},
   "source": [
    "## Exercise 3\n",
    "\n",
    "Use the iris dataset then create a 2-way split (train/validation), compare all combinations loop over the SVC kernel parameters \"rbf\" and \"linear\", and C parameters 0.001, 0.01, 0.1, 1., and 10. Print the training and validation scores for every pair of parameters. How do they compare?\n",
    "\n",
    "Hint: You need to nest two for loops. You can use the train/test splits from Exercise 1"
   ]
  },
  {
   "cell_type": "code",
   "execution_count": 1,
   "metadata": {},
   "outputs": [],
   "source": [
    "# Write code here"
   ]
  },
  {
   "cell_type": "markdown",
   "metadata": {},
   "source": [
    "## Exercise 4\n",
    "\n",
    "Use the iris dataset to create a 3-way split (train/val/test), optimize the SVC parameters using grid-searchCV (also try a RandomForest model), then report the final f1 score on the test, train, and validation datasets. How close are the validation and test scores? How does the training score compare to the test and validation scores?"
   ]
  },
  {
   "cell_type": "code",
   "execution_count": null,
   "metadata": {},
   "outputs": [],
   "source": []
  },
  {
   "cell_type": "markdown",
   "metadata": {},
   "source": [
    "## Exercise 5\n",
    "\n",
    "The tab separated file \"sentiment-twitter-data.tsv\" contains tweets annotated for sentiment. Load the data then do the following:\n",
    "\n",
    "- create a bag of words feature representation for the tweets\n",
    "- split it into a train/test split\n",
    "- Use grid-search (CV) on the train split to find the best C parameters for an SVC classifier (you can also try different kernels)\n",
    "- report (print) the accuracy of the final classifier on the test data and train data\n",
    "- How many features were created with the bag of words representation?"
   ]
  },
  {
   "cell_type": "code",
   "execution_count": null,
   "metadata": {},
   "outputs": [],
   "source": []
  }
 ],
 "metadata": {
  "kernelspec": {
   "display_name": "Python 3",
   "language": "python",
   "name": "python3"
  },
  "language_info": {
   "codemirror_mode": {
    "name": "ipython",
    "version": 3
   },
   "file_extension": ".py",
   "mimetype": "text/x-python",
   "name": "python",
   "nbconvert_exporter": "python",
   "pygments_lexer": "ipython3",
   "version": "3.6.4"
  }
 },
 "nbformat": 4,
 "nbformat_minor": 2
}

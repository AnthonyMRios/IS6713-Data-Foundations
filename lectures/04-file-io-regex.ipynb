{
 "cells": [
  {
   "cell_type": "markdown",
   "metadata": {},
   "source": [
    "# Python as a Calculator\n",
    "\n",
    "Blank notebook to be used for class exercises."
   ]
  },
  {
   "cell_type": "markdown",
   "metadata": {},
   "source": [
    "## Exercise 2\n",
    "\n",
    "A garden center has an XML (plant_catalog.xml) file that stores information, including price, for all plants they sell. The store is having a sale where everything is 20% off. Write a program that that prints the plant \"COMMON\" name, the current price, and the new sale price. An example of what the output should look like is shown below:\n",
    "\n",
    "```\n",
    "Bloodroot $2.44 to $1.95\\\\\n",
    "Columbine $9.37 to $7.50\\\\\n",
    "Marsh Marigold $6.81 to $5.45\\\\\n",
    "...```\n",
    "        \n",
    "File absolute path: \"../data/plant_catalog.xml\"\n",
    "**Hint:** You will need to use \"string indexing\"."
   ]
  },
  {
   "cell_type": "code",
   "execution_count": 14,
   "metadata": {},
   "outputs": [
    {
     "name": "stdout",
     "output_type": "stream",
     "text": [
      "<?xml version=\"1.0\" encoding=\"UTF-8\"?>\n",
      "<CATALOG>\n",
      "  <PLANT>\n",
      "    <COMMON>Bloodroot</COMMON>\n",
      "    <BOTANICAL>Sanguinaria canadensis</BOTANICAL>\n",
      "    <ZONE>4</ZONE>\n",
      "    <LIGHT>Mostly Shady</LIGHT>\n",
      "    <PRICE>$2.44</PRICE>\n",
      "    <AVAILABILITY>031599</AVAILABILITY>\n",
      "  </PLANT>\n",
      "  <PLANT>\n",
      "    <COMMON>Columbine</COMMON>\n",
      "    <BOTANICAL>Aquilegia canadensis</BOTANICAL>\n",
      "    <ZONE>3</ZONE>\n",
      "    <LIGHT>Mostly Shady</LIGHT>\n",
      "    <PRICE>$9.37</PRICE>\n",
      "    <AVAILABILITY>030699</AVAILABILITY>\n",
      "  </PLANT>\n",
      "  <PLANT>\n",
      "    <COMMON>Marsh Marigold</COMMON>\n",
      "    <BOTANICAL>Caltha palustris</BOTANICAL>\n",
      "    <ZONE>4</ZONE>\n",
      "    <LIGHT>Mostly Sunny</LIGHT>\n",
      "    <PRICE>$6.81</PRICE>\n",
      "    <AVAILABILITY>051799</AVAILABILITY>\n",
      "  </PLANT>\n",
      "\n"
     ]
    }
   ],
   "source": [
    "# Use this code to look at the structure of plant_catalog.xml\n",
    "# n = number of lines to show\n",
    "n = 26\n",
    "with open(\"../data/plant_catalog.xml\") as myfile:\n",
    "    head = [next(myfile) for x in range(n)]\n",
    "print(''.join(head))"
   ]
  },
  {
   "cell_type": "code",
   "execution_count": null,
   "metadata": {},
   "outputs": [],
   "source": [
    "# Write code here"
   ]
  },
  {
   "cell_type": "markdown",
   "metadata": {},
   "source": [
    "## Exercise 3\n",
    "\n",
    "Using the \"exampleJSON.json\" file, complete the following tasks:\n",
    "- Load the file into a python dictionary.\n",
    "- Change the email of item with the name \"Anthony\" to \"anthony.rios@utsa.edu\"\n",
    "- Add a new person to the list with the name \"David\" and email \"david@fakeemail.edu\"\n",
    "- Save the new dictionary to a JSON file \"exampleJSON2.json\"\n",
    "\n",
    "File: exampleJSON.json"
   ]
  },
  {
   "cell_type": "markdown",
   "metadata": {},
   "source": [
    "### FILE CONTENTS\n",
    "[{\"name\": \"Anthony\", \"email\": \"a@utsa.edu\", \"age\": 102}, {\"name\": \"John\", \"email\": \"john@fake.edu\"}, {\"name\": \"Jane\", \"email\": \"jane@fake.edu\"}]"
   ]
  },
  {
   "cell_type": "code",
   "execution_count": null,
   "metadata": {},
   "outputs": [],
   "source": []
  },
  {
   "cell_type": "markdown",
   "metadata": {},
   "source": [
    "Run the following cell to check your work"
   ]
  },
  {
   "cell_type": "code",
   "execution_count": 3,
   "metadata": {},
   "outputs": [
    {
     "name": "stdout",
     "output_type": "stream",
     "text": [
      "[{\"name\": \"Anthony\", \"email\": \"anthony.rios@utsa.edu\", \"age\": 102}, {\"name\": \"John\", \"email\": \"john@fake.edu\"}, {\"name\": \"Jane\", \"email\": \"jane@fake.edu\"}, {\"name\": \"David\", \"email\": \"david@fakeemail.edu\"}]\n"
     ]
    }
   ],
   "source": [
    "print(open('exampleJSON2.json','r').read())"
   ]
  },
  {
   "cell_type": "markdown",
   "metadata": {},
   "source": [
    "## Exercise 4\n",
    "\n",
    "Write code to loop over the Twitter JSONL file \"twitter.jsonl\" and compute the following:\n",
    "- Count and print the total number of tweets.\n",
    "- Count and print the total number of users are in the dataset. Hint: row['user']['screen_name']\n",
    "- Print the screen name of the user who has the most tweets.\n",
    "\n",
    "**Tip:** Don't process the entire file right away, start by processing 1 to 2 lines.\n",
    "\n",
    "File path: \"../data/twitter.jsonl\"\n",
    "\n",
    "Dataset URL: https://www.dropbox.com/s/5lu497muqq0jver/user_timelines_small.jsonl?dl=0"
   ]
  },
  {
   "cell_type": "markdown",
   "metadata": {},
   "source": [
    "Run the next cell to view the first row line of the file"
   ]
  },
  {
   "cell_type": "code",
   "execution_count": null,
   "metadata": {},
   "outputs": [],
   "source": [
    "!head -n1  ../data/twitter.jsonl"
   ]
  },
  {
   "cell_type": "code",
   "execution_count": 1,
   "metadata": {},
   "outputs": [],
   "source": [
    "# WRite code here"
   ]
  },
  {
   "cell_type": "markdown",
   "metadata": {},
   "source": [
    "## Exercise 5\n",
    "\n",
    "Write code to loop over mbox.txt and counts, and prints, the number of lines thatc ontain the “From:” substring.  Use the **re** package for this exercise.\n",
    "\n",
    "file path: \"../data/mbox.txt\""
   ]
  },
  {
   "cell_type": "code",
   "execution_count": null,
   "metadata": {},
   "outputs": [],
   "source": [
    "# Write code here"
   ]
  },
  {
   "cell_type": "markdown",
   "metadata": {},
   "source": [
    "## Exercise 6\n",
    "\n",
    "Write a program to look for lines of the form in the “mbox.txt” file:\n",
    "\n",
    "New Revision:  39772\n",
    "\n",
    "Extract the number from each of the lines using a regular expression andthe findall() method.  Compute the average of the numbers and print outthe average.\n",
    "\n",
    "file path: \"../data/mbox.txt\""
   ]
  },
  {
   "cell_type": "code",
   "execution_count": null,
   "metadata": {},
   "outputs": [],
   "source": [
    "# Write code here"
   ]
  },
  {
   "cell_type": "markdown",
   "metadata": {},
   "source": [
    "## Exercise 7\n",
    "\n",
    "For the following string:\n",
    "\n",
    "text = \"any machine with more than 6 GHz and 500 GB of disk space forless than \\$1000\"\n",
    "\n",
    "Develop a regular expression that will extract **all** of the following information:\n",
    "- 6 GHz\n",
    "- 500 GB\n",
    "- Mac\n",
    "- $999.99\n",
    "\n",
    "Hint: Use re.findall"
   ]
  },
  {
   "cell_type": "code",
   "execution_count": null,
   "metadata": {},
   "outputs": [],
   "source": [
    "# Write code here"
   ]
  }
 ],
 "metadata": {
  "kernelspec": {
   "display_name": "Python 3",
   "language": "python",
   "name": "python3"
  },
  "language_info": {
   "codemirror_mode": {
    "name": "ipython",
    "version": 3
   },
   "file_extension": ".py",
   "mimetype": "text/x-python",
   "name": "python",
   "nbconvert_exporter": "python",
   "pygments_lexer": "ipython3",
   "version": "3.6.4"
  }
 },
 "nbformat": 4,
 "nbformat_minor": 2
}

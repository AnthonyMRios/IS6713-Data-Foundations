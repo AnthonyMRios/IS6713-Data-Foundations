{
 "cells": [
  {
   "cell_type": "markdown",
   "metadata": {},
   "source": [
    "## Numpy Review"
   ]
  },
  {
   "cell_type": "code",
   "execution_count": 18,
   "metadata": {},
   "outputs": [],
   "source": [
    "# Creating numpy arrays\n",
    "import numpy as np\n",
    "\n",
    "mat = np.zeros((10,)) # Vector (1 dimensional array) of 10 zeros\n",
    "\n",
    "mat = np.ones((10,5)) # Matrix of ones with 10 rows and 5 columns\n",
    "\n",
    "mat = np.random.random((10,5)) # Matrix of random values between 0 and 1.\n",
    "\n",
    "vec = np.array([1,2,3]) # Creates a 1 dimensional array based on a list"
   ]
  },
  {
   "cell_type": "code",
   "execution_count": 6,
   "metadata": {},
   "outputs": [
    {
     "name": "stdout",
     "output_type": "stream",
     "text": [
      "(10, 5)\n",
      "float64\n"
     ]
    }
   ],
   "source": [
    "# Getting information about numpy arrays\n",
    "\n",
    "print(mat.shape) # Gets the shape (number of rows by number of columns) of a numpy array\n",
    "\n",
    "print(mat.dtype) # Gets the data type of each element in the array"
   ]
  },
  {
   "cell_type": "code",
   "execution_count": 8,
   "metadata": {},
   "outputs": [
    {
     "name": "stdout",
     "output_type": "stream",
     "text": [
      "[0.19996496 0.36488777 0.2433725  0.50761023 0.91304322]\n",
      "(5,)\n",
      "[0.19996496 0.5554866  0.73260104 0.04557483 0.34652143 0.64503064\n",
      " 0.20553431 0.35128063 0.21732206 0.23426446]\n",
      "(10,)\n",
      "0.7105885838456811\n",
      "()\n"
     ]
    }
   ],
   "source": [
    "# Indexing an array\n",
    "\n",
    "# Returns the first row of mat\n",
    "print(mat[0]) \n",
    "print(mat[0].shape) \n",
    "\n",
    "# returns the first column of mat\n",
    "print(mat[:,0]) \n",
    "print(mat[:,0].shape) \n",
    "\n",
    "# Returns the number in the first row and first column of mat\n",
    "print(mat[1,1])\n",
    "print(mat[1,1].shape) "
   ]
  },
  {
   "cell_type": "code",
   "execution_count": 9,
   "metadata": {},
   "outputs": [
    {
     "name": "stdout",
     "output_type": "stream",
     "text": [
      "(5,)\n",
      "(5,)\n",
      "(5,)\n",
      "(5,)\n",
      "(5,)\n",
      "(5,)\n",
      "(5,)\n",
      "(5,)\n",
      "(5,)\n",
      "(5,)\n"
     ]
    }
   ],
   "source": [
    "# Looping over all rows in a matrix\n",
    "\n",
    "for row in mat:\n",
    "    print(row.shape)"
   ]
  },
  {
   "cell_type": "code",
   "execution_count": 10,
   "metadata": {},
   "outputs": [
    {
     "name": "stdout",
     "output_type": "stream",
     "text": [
      "(10,)\n",
      "(10,)\n",
      "(10,)\n",
      "(10,)\n",
      "(10,)\n"
     ]
    }
   ],
   "source": [
    "# Looping over all column in a numpy matrix\n",
    "\n",
    "for col in mat.T:\n",
    "    print(col.shape)"
   ]
  },
  {
   "cell_type": "code",
   "execution_count": 11,
   "metadata": {},
   "outputs": [
    {
     "name": "stdout",
     "output_type": "stream",
     "text": [
      "before: 0.41883318412844506 after: 0.41883318412844506\n"
     ]
    }
   ],
   "source": [
    "# Take the transpose of a matrix\n",
    "# i.e., flip the matricies columns and rows. \n",
    "# For example, mat[1,2] will be moved to mat[2,1]\n",
    "\n",
    "trans_mat = mat.T\n",
    "\n",
    "print(\"before: {} after: {}\".format(mat[1,2],trans_mat[2,1]))"
   ]
  },
  {
   "cell_type": "code",
   "execution_count": 13,
   "metadata": {},
   "outputs": [
    {
     "name": "stdout",
     "output_type": "stream",
     "text": [
      "(2, 5)\n",
      "(10, 2)\n"
     ]
    }
   ],
   "source": [
    "# Select a subset of columns/rows in a matrix\n",
    "\n",
    "spec_rows = mat[[0,1], :] # returns the 1st and 2nd rows in mat\n",
    "print(spec_rows.shape)\n",
    "\n",
    "\n",
    "spec_cols = mat[:,[0,1]] # Returns the 1st and second columns in mat\n",
    "print(spec_cols.shape)"
   ]
  },
  {
   "cell_type": "code",
   "execution_count": 17,
   "metadata": {},
   "outputs": [
    {
     "name": "stdout",
     "output_type": "stream",
     "text": [
      "[[1. 1. 1. 1.]\n",
      " [1. 1. 1. 1.]\n",
      " [1. 1. 1. 1.]]\n",
      "\n",
      "[[2. 2. 2. 2.]\n",
      " [2. 2. 2. 2.]\n",
      " [2. 2. 2. 2.]]\n",
      "\n",
      "[[-1. -1. -1. -1.]\n",
      " [-1. -1. -1. -1.]\n",
      " [-1. -1. -1. -1.]]\n",
      "\n",
      "[[3. 3. 3. 3.]\n",
      " [3. 3. 3. 3.]\n",
      " [3. 3. 3. 3.]]\n"
     ]
    }
   ],
   "source": [
    "# Subtract/add two matricies element wise\n",
    "\n",
    "mat1 = np.ones((3,4))\n",
    "\n",
    "mat2 = np.ones((3,4))*2 # 2 is multipled elelment-wise in mat2. So, every element is = 2\n",
    "\n",
    "print(mat1)\n",
    "print()\n",
    "print(mat2)\n",
    "\n",
    "print()\n",
    "new_mat = mat1 - mat2 # subtract each element in mat1 by its respective element in mat2\n",
    "print(new_mat)\n",
    "\n",
    "print()\n",
    "new_mat = mat1 + mat2 # add each element in mat1 by its respective element in mat2\n",
    "print(new_mat)\n"
   ]
  },
  {
   "cell_type": "code",
   "execution_count": 20,
   "metadata": {},
   "outputs": [
    {
     "name": "stdout",
     "output_type": "stream",
     "text": [
      "32\n",
      "[ 4 10 18]\n"
     ]
    }
   ],
   "source": [
    "# Dot (inner) preoduct between 2 vectors\n",
    "\n",
    "\n",
    "vec1 = np.array([1,2,3])\n",
    "\n",
    "vec2 = np.array([4,5,6])\n",
    "\n",
    "print(vec1.dot(vec2)) # Returns 1*4 + 2*5 + 3*6\n",
    "\n",
    "#For element-wise vector multiplication use the * symbol\n",
    "print(vec1 * vec2)"
   ]
  },
  {
   "cell_type": "code",
   "execution_count": 21,
   "metadata": {},
   "outputs": [
    {
     "name": "stdout",
     "output_type": "stream",
     "text": [
      "[1.22236953 1.04580811 0.59975244 1.32970279 1.32026535]\n"
     ]
    }
   ],
   "source": [
    "# vector matrix multiplication (see here for more info: https://mathinsight.org/matrix_vector_multiplication)\n",
    "\n",
    "mat = np.random.random((3,5))\n",
    "\n",
    "vec = np.random.random((3))\n",
    "\n",
    "print(vec.dot(mat)) # Returns a vector of size 5"
   ]
  },
  {
   "cell_type": "code",
   "execution_count": null,
   "metadata": {},
   "outputs": [],
   "source": []
  }
 ],
 "metadata": {
  "kernelspec": {
   "display_name": "Python 3",
   "language": "python",
   "name": "python3"
  },
  "language_info": {
   "codemirror_mode": {
    "name": "ipython",
    "version": 3
   },
   "file_extension": ".py",
   "mimetype": "text/x-python",
   "name": "python",
   "nbconvert_exporter": "python",
   "pygments_lexer": "ipython3",
   "version": "3.6.4"
  }
 },
 "nbformat": 4,
 "nbformat_minor": 2
}
